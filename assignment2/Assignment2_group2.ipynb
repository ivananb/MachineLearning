{
 "cells": [
  {
   "cell_type": "markdown",
   "id": "3f3a7528",
   "metadata": {},
   "source": [
    "# Assignment 2 group 2\n",
    "Avezzù Irene e Nworah Bortot Ivana"
   ]
  },
  {
   "cell_type": "markdown",
   "id": "bd8b646b",
   "metadata": {},
   "source": [
    "## 1. Sentiment Analysis on Movie Reviews\n",
    "\n",
    "Consider the `movie_sentiment_analysis.csv` dataset containing the reviews of movies along with their polarities to perform sentiment classification:\n",
    "\n",
    "1. remove non-informative features;\n",
    "2. remove punctuation and make the text lowercase, as we did in a Lab 3.\n",
    "3. encode the text using a tdf-ifd vectorizer;\n",
    "4. use the following classifiers (use 5-fold cross validation to find the best hyperparameters):\n",
    "    - KNN (hyperparam: the number of neighbours);\n",
    "    - SVM (hyperparam: C);\n",
    "    - Naive Bayes (hyperparam: the kind of NB classifier);\n",
    "    - Decision Trees (hyperparam: the height of the DT);\n",
    "5. plot the prec-rec curve;\n",
    "6. plot the roc curve;\n",
    "7. plot the confusion matrix;\n",
    "8. discuss the results."
   ]
  },
  {
   "cell_type": "markdown",
   "id": "787caa97",
   "metadata": {},
   "source": [
    "### 1. Remove non informative features"
   ]
  },
  {
   "cell_type": "code",
   "execution_count": 1,
   "id": "a85daea9",
   "metadata": {},
   "outputs": [],
   "source": [
    "import pandas as pd\n",
    "import numpy as np\n",
    "from sklearn.feature_extraction.text import CountVectorizer\n",
    "import warnings\n",
    "warnings.filterwarnings('ignore') "
   ]
  },
  {
   "cell_type": "markdown",
   "id": "0b7d9938",
   "metadata": {},
   "source": [
    "Import data"
   ]
  },
  {
   "cell_type": "markdown",
   "id": "852a8aa0",
   "metadata": {},
   "source": [
    "For testing purposes we can include in the read_csv the parameter nrows wich selects only the first n-th rows  \n",
    "e.g. data = pd.read_csv('movie_sentiment_analysis.csv', nrows=100)"
   ]
  },
  {
   "cell_type": "code",
   "execution_count": 2,
   "id": "769a498a",
   "metadata": {},
   "outputs": [
    {
     "name": "stdout",
     "output_type": "stream",
     "text": [
      "<class 'pandas.core.frame.DataFrame'>\n",
      "RangeIndex: 64720 entries, 0 to 64719\n",
      "Data columns (total 6 columns):\n",
      " #   Column   Non-Null Count  Dtype \n",
      "---  ------   --------------  ----- \n",
      " 0   fold_id  64720 non-null  int64 \n",
      " 1   cv_tag   64720 non-null  object\n",
      " 2   html_id  64720 non-null  int64 \n",
      " 3   sent_id  64720 non-null  int64 \n",
      " 4   text     64720 non-null  object\n",
      " 5   tag      64720 non-null  int64 \n",
      "dtypes: int64(4), object(2)\n",
      "memory usage: 3.0+ MB\n"
     ]
    }
   ],
   "source": [
    "data = pd.read_csv('movie_sentiment_analysis.csv')\n",
    "data.columns = ['fold_id', 'cv_tag', 'html_id', 'sent_id', 'text', 'tag']\n",
    "data['tag'].replace({'neg':0, 'pos':1}, inplace=True)\n",
    "data.info()"
   ]
  },
  {
   "cell_type": "code",
   "execution_count": 3,
   "id": "597f3545",
   "metadata": {},
   "outputs": [
    {
     "name": "stdout",
     "output_type": "stream",
     "text": [
      "Number of missing values before cleaning:\n",
      "\tfold_id: 0\n",
      "\tcv_tag: 0\n",
      "\thtml_id: 0\n",
      "\tsent_id: 0\n",
      "\ttext: 136\n",
      "\ttag: 0\n"
     ]
    }
   ],
   "source": [
    "#check for null values\n",
    "data = data.replace(['?', ',', '.'], np.NaN) #remove ? and , and . as missing values\n",
    "\n",
    "print('Number of missing values before cleaning:')\n",
    "for col in data.columns:\n",
    "    print(f'\\t{col}: {data[col].isna().sum()}')\n"
   ]
  },
  {
   "cell_type": "markdown",
   "id": "63321cd1",
   "metadata": {},
   "source": [
    "From data.info the dataset appeared to have no null values ut when we reapleace the '?', ',' and '.' the situation changes. This is because there a no null values but '?', ',' and '.' are still considered as missing values so they need to be removed as if they were null values"
   ]
  },
  {
   "cell_type": "markdown",
   "id": "3291fdfb",
   "metadata": {},
   "source": [
    "We then deal the null values. There are two possible approaches:\n",
    "1. substitute the null values using the method fillna\n",
    "2. discard the data points using the method dropna"
   ]
  },
  {
   "cell_type": "markdown",
   "id": "4ccb94a9",
   "metadata": {},
   "source": [
    "1 - All null values are substituted with the most frequent of the 'text' column"
   ]
  },
  {
   "cell_type": "code",
   "execution_count": 4,
   "id": "4eda6ae3",
   "metadata": {},
   "outputs": [
    {
     "name": "stdout",
     "output_type": "stream",
     "text": [
      "<class 'pandas.core.frame.DataFrame'>\n",
      "RangeIndex: 64720 entries, 0 to 64719\n",
      "Data columns (total 6 columns):\n",
      " #   Column   Non-Null Count  Dtype \n",
      "---  ------   --------------  ----- \n",
      " 0   fold_id  64720 non-null  int64 \n",
      " 1   cv_tag   64720 non-null  object\n",
      " 2   html_id  64720 non-null  int64 \n",
      " 3   sent_id  64720 non-null  int64 \n",
      " 4   text     64720 non-null  object\n",
      " 5   tag      64720 non-null  int64 \n",
      "dtypes: int64(4), object(2)\n",
      "memory usage: 3.0+ MB\n"
     ]
    }
   ],
   "source": [
    "data_clean = data.copy()\n",
    "data_clean['text'] = data_clean[['text']].fillna(value=data['text'].mode()[0])\n",
    "data_clean.info()"
   ]
  },
  {
   "cell_type": "markdown",
   "id": "749e552a",
   "metadata": {},
   "source": [
    "2 - Remove null values by removing the rows that contain them"
   ]
  },
  {
   "cell_type": "code",
   "execution_count": 5,
   "id": "48c6a4b8",
   "metadata": {},
   "outputs": [
    {
     "name": "stdout",
     "output_type": "stream",
     "text": [
      "Number of rows in original data = 64720\n",
      "Number of rows after discarding missing values = 64584\n",
      "<class 'pandas.core.frame.DataFrame'>\n",
      "Int64Index: 64584 entries, 0 to 64719\n",
      "Data columns (total 6 columns):\n",
      " #   Column   Non-Null Count  Dtype \n",
      "---  ------   --------------  ----- \n",
      " 0   fold_id  64584 non-null  int64 \n",
      " 1   cv_tag   64584 non-null  object\n",
      " 2   html_id  64584 non-null  int64 \n",
      " 3   sent_id  64584 non-null  int64 \n",
      " 4   text     64584 non-null  object\n",
      " 5   tag      64584 non-null  int64 \n",
      "dtypes: int64(4), object(2)\n",
      "memory usage: 3.4+ MB\n"
     ]
    }
   ],
   "source": [
    "print(f'Number of rows in original data = {data.shape[0]}')\n",
    "data = data.dropna()\n",
    "print(f'Number of rows after discarding missing values = {data.shape[0]}')\n",
    "data.info() #now the number of rows has been reduced"
   ]
  },
  {
   "cell_type": "markdown",
   "id": "95951020",
   "metadata": {},
   "source": [
    "We consider only text and tag to contain relevant informations so we drop the other columns"
   ]
  },
  {
   "cell_type": "code",
   "execution_count": 6,
   "id": "067abd35",
   "metadata": {},
   "outputs": [
    {
     "name": "stdout",
     "output_type": "stream",
     "text": [
      "<class 'pandas.core.frame.DataFrame'>\n",
      "Int64Index: 64584 entries, 0 to 64719\n",
      "Data columns (total 2 columns):\n",
      " #   Column  Non-Null Count  Dtype \n",
      "---  ------  --------------  ----- \n",
      " 0   text    64584 non-null  object\n",
      " 1   tag     64584 non-null  int64 \n",
      "dtypes: int64(1), object(1)\n",
      "memory usage: 1.5+ MB\n"
     ]
    }
   ],
   "source": [
    "data = data.drop('html_id', axis=1) \n",
    "data = data.drop('fold_id', axis=1) \n",
    "data = data.drop('cv_tag', axis=1) \n",
    "data = data.drop('sent_id', axis=1) \n",
    "data.info()"
   ]
  },
  {
   "cell_type": "markdown",
   "id": "c938a19f",
   "metadata": {},
   "source": [
    "### 2. Remove punctuation and make the text lowercase, as we did in a Lab 3."
   ]
  },
  {
   "cell_type": "code",
   "execution_count": 7,
   "id": "4455044d",
   "metadata": {},
   "outputs": [
    {
     "data": {
      "text/html": [
       "<div>\n",
       "<style scoped>\n",
       "    .dataframe tbody tr th:only-of-type {\n",
       "        vertical-align: middle;\n",
       "    }\n",
       "\n",
       "    .dataframe tbody tr th {\n",
       "        vertical-align: top;\n",
       "    }\n",
       "\n",
       "    .dataframe thead th {\n",
       "        text-align: right;\n",
       "    }\n",
       "</style>\n",
       "<table border=\"1\" class=\"dataframe\">\n",
       "  <thead>\n",
       "    <tr style=\"text-align: right;\">\n",
       "      <th></th>\n",
       "      <th>text</th>\n",
       "      <th>tag</th>\n",
       "    </tr>\n",
       "  </thead>\n",
       "  <tbody>\n",
       "    <tr>\n",
       "      <th>0</th>\n",
       "      <td>films adapted from comic books have had plenty...</td>\n",
       "      <td>1</td>\n",
       "    </tr>\n",
       "    <tr>\n",
       "      <th>1</th>\n",
       "      <td>for starters   it was created by alan moore   ...</td>\n",
       "      <td>1</td>\n",
       "    </tr>\n",
       "    <tr>\n",
       "      <th>2</th>\n",
       "      <td>to say moore and campbell thoroughly researche...</td>\n",
       "      <td>1</td>\n",
       "    </tr>\n",
       "    <tr>\n",
       "      <th>3</th>\n",
       "      <td>the book   or   graphic novel     if you will ...</td>\n",
       "      <td>1</td>\n",
       "    </tr>\n",
       "    <tr>\n",
       "      <th>4</th>\n",
       "      <td>in other words   don t dismiss this film becau...</td>\n",
       "      <td>1</td>\n",
       "    </tr>\n",
       "  </tbody>\n",
       "</table>\n",
       "</div>"
      ],
      "text/plain": [
       "                                                text  tag\n",
       "0  films adapted from comic books have had plenty...    1\n",
       "1  for starters   it was created by alan moore   ...    1\n",
       "2  to say moore and campbell thoroughly researche...    1\n",
       "3  the book   or   graphic novel     if you will ...    1\n",
       "4  in other words   don t dismiss this film becau...    1"
      ]
     },
     "execution_count": 7,
     "metadata": {},
     "output_type": "execute_result"
    }
   ],
   "source": [
    "data['text'] = data['text'].str.strip().str.lower().str.replace('[^\\w]', ' ')\n",
    "data.head()"
   ]
  },
  {
   "cell_type": "code",
   "execution_count": 8,
   "id": "68580f93",
   "metadata": {},
   "outputs": [
    {
     "name": "stdout",
     "output_type": "stream",
     "text": [
      "<class 'pandas.core.frame.DataFrame'>\n",
      "Int64Index: 64584 entries, 0 to 64719\n",
      "Data columns (total 2 columns):\n",
      " #   Column  Non-Null Count  Dtype \n",
      "---  ------  --------------  ----- \n",
      " 0   text    64584 non-null  object\n",
      " 1   tag     64584 non-null  int64 \n",
      "dtypes: int64(1), object(1)\n",
      "memory usage: 1.5+ MB\n"
     ]
    }
   ],
   "source": [
    "data.info() #check all clean data"
   ]
  },
  {
   "cell_type": "markdown",
   "id": "33d64f93",
   "metadata": {},
   "source": [
    "### 3. Encode the text using a tdf-ifd vectorizer;"
   ]
  },
  {
   "cell_type": "markdown",
   "id": "f4669f62",
   "metadata": {},
   "source": [
    "We could have also encoded the text using a *counter vectorizer* to observe if we get different classifications  \n",
    "e.g. vectorizer = CountVectorizer()"
   ]
  },
  {
   "cell_type": "code",
   "execution_count": 9,
   "id": "6b654982",
   "metadata": {},
   "outputs": [],
   "source": [
    "from sklearn.feature_extraction.text import TfidfVectorizer\n",
    "from sklearn.model_selection import train_test_split"
   ]
  },
  {
   "cell_type": "markdown",
   "id": "8f32e765",
   "metadata": {},
   "source": [
    "Since we then use classifiers, to make the running time shorter we use only a proportionate subset of the data"
   ]
  },
  {
   "cell_type": "code",
   "execution_count": 10,
   "id": "fdc5b21c",
   "metadata": {},
   "outputs": [
    {
     "name": "stdout",
     "output_type": "stream",
     "text": [
      "Data info:\n",
      "\n",
      "<class 'pandas.core.frame.DataFrame'>\n",
      "Int64Index: 64584 entries, 0 to 64719\n",
      "Data columns (total 2 columns):\n",
      " #   Column  Non-Null Count  Dtype \n",
      "---  ------  --------------  ----- \n",
      " 0   text    64584 non-null  object\n",
      " 1   tag     64584 non-null  int64 \n",
      "dtypes: int64(1), object(1)\n",
      "memory usage: 1.5+ MB\n",
      "\n",
      "\n",
      "Sampled data info:\n",
      "\n",
      "<class 'pandas.core.frame.DataFrame'>\n",
      "Int64Index: 12917 entries, 36132 to 6651\n",
      "Data columns (total 2 columns):\n",
      " #   Column  Non-Null Count  Dtype \n",
      "---  ------  --------------  ----- \n",
      " 0   text    12917 non-null  object\n",
      " 1   tag     12917 non-null  int64 \n",
      "dtypes: int64(1), object(1)\n",
      "memory usage: 302.7+ KB\n",
      "\n",
      "\n",
      "Sampled data head:\n"
     ]
    },
    {
     "data": {
      "text/html": [
       "<div>\n",
       "<style scoped>\n",
       "    .dataframe tbody tr th:only-of-type {\n",
       "        vertical-align: middle;\n",
       "    }\n",
       "\n",
       "    .dataframe tbody tr th {\n",
       "        vertical-align: top;\n",
       "    }\n",
       "\n",
       "    .dataframe thead th {\n",
       "        text-align: right;\n",
       "    }\n",
       "</style>\n",
       "<table border=\"1\" class=\"dataframe\">\n",
       "  <thead>\n",
       "    <tr style=\"text-align: right;\">\n",
       "      <th></th>\n",
       "      <th>text</th>\n",
       "      <th>tag</th>\n",
       "    </tr>\n",
       "  </thead>\n",
       "  <tbody>\n",
       "    <tr>\n",
       "      <th>36132</th>\n",
       "      <td>one moment has an astronaut flying off into sp...</td>\n",
       "      <td>0</td>\n",
       "    </tr>\n",
       "    <tr>\n",
       "      <th>48340</th>\n",
       "      <td>starship troopers does not succeed as an actio...</td>\n",
       "      <td>0</td>\n",
       "    </tr>\n",
       "    <tr>\n",
       "      <th>56438</th>\n",
       "      <td>another thing is that this movie has sections ...</td>\n",
       "      <td>0</td>\n",
       "    </tr>\n",
       "    <tr>\n",
       "      <th>37581</th>\n",
       "      <td>you guessed it</td>\n",
       "      <td>0</td>\n",
       "    </tr>\n",
       "    <tr>\n",
       "      <th>47114</th>\n",
       "      <td>however   the daughter is also the god daughte...</td>\n",
       "      <td>0</td>\n",
       "    </tr>\n",
       "  </tbody>\n",
       "</table>\n",
       "</div>"
      ],
      "text/plain": [
       "                                                    text  tag\n",
       "36132  one moment has an astronaut flying off into sp...    0\n",
       "48340  starship troopers does not succeed as an actio...    0\n",
       "56438  another thing is that this movie has sections ...    0\n",
       "37581                               you guessed it          0\n",
       "47114  however   the daughter is also the god daughte...    0"
      ]
     },
     "execution_count": 10,
     "metadata": {},
     "output_type": "execute_result"
    }
   ],
   "source": [
    "print(\"Data info:\\n\")\n",
    "data.info()\n",
    "\n",
    "data = data.groupby('tag', group_keys=False).apply(lambda x: x.sample(frac=0.2)) # 20% of the data\n",
    "\n",
    "print(\"\\n\\nSampled data info:\\n\")\n",
    "data.info()\n",
    "\n",
    "print(\"\\n\\nSampled data head:\")\n",
    "data.head()\n"
   ]
  },
  {
   "cell_type": "raw",
   "id": "9f347f7d",
   "metadata": {},
   "source": [
    "Differently from what we did in the labs, we first vectorize and then split into test and training data"
   ]
  },
  {
   "cell_type": "code",
   "execution_count": 11,
   "id": "f0e14c75",
   "metadata": {},
   "outputs": [],
   "source": [
    "# Vectorize text reviews to numbers using TF-IDF\n",
    "x = data['text']\n",
    "y = data['tag']\n",
    "vec = TfidfVectorizer(stop_words='english')\n",
    "X_encoded = vec.fit_transform(x)"
   ]
  },
  {
   "cell_type": "code",
   "execution_count": 12,
   "id": "8eac7f5d",
   "metadata": {},
   "outputs": [],
   "source": [
    "# Split into training and testing data\n",
    "X_train, X_test, y_train, y_test = train_test_split(X_encoded, y, stratify=y, test_size=0.25, random_state=42)"
   ]
  },
  {
   "cell_type": "markdown",
   "id": "8dae80b3",
   "metadata": {},
   "source": [
    "X_encoded is a sparse matrix so it means that it has many 0 values and only a few non-zero values so to save memory it saves only the non-zero values keeping also the index of the value.\n",
    "Ex of element in the matrix: (0, 2697)\t0.3957785227517055"
   ]
  },
  {
   "cell_type": "markdown",
   "id": "1efed3cc",
   "metadata": {},
   "source": [
    "### 4-7 Use the following classifiers evaluate the accuracy, F1, prec-rec curve, roc curve and the confusion matrix:\n",
    "    - KNN \n",
    "    - SVM \n",
    "    - Naive Bayes\n",
    "    - Decision Trees"
   ]
  },
  {
   "cell_type": "code",
   "execution_count": 13,
   "id": "4afbc710",
   "metadata": {},
   "outputs": [],
   "source": [
    "from sklearn.model_selection import train_test_split\n",
    "from sklearn.feature_extraction.text import CountVectorizer\n",
    "from sklearn.model_selection import GridSearchCV\n",
    "from sklearn.metrics import accuracy_score\n",
    "from sklearn import metrics"
   ]
  },
  {
   "cell_type": "markdown",
   "id": "a8e3452c",
   "metadata": {},
   "source": [
    "We begin by computing the positive and negative ratio to understand the imbalance of the data."
   ]
  },
  {
   "cell_type": "code",
   "execution_count": 14,
   "id": "46696f43",
   "metadata": {},
   "outputs": [
    {
     "name": "stdout",
     "output_type": "stream",
     "text": [
      "(array([0, 1], dtype=int64), array([1586, 1644], dtype=int64))\n",
      "\n",
      "Number of pos instances: 1644\n",
      "Number of neg instances: 1586\n",
      "\n",
      "Positive ratio: 0.5089783281733746\n",
      "Negative ratio: 0.49102167182662537\n"
     ]
    }
   ],
   "source": [
    "print(np.unique(y_test, return_counts=True)) \n",
    "\n",
    "neg = np.unique(y_test, return_counts=True)[1][0]\n",
    "pos = np.unique(y_test, return_counts=True)[1][1]\n",
    "\n",
    "print(f\"\\nNumber of pos instances: {pos}\")\n",
    "print(f\"Number of neg instances: {neg}\")\n",
    "\n",
    "print(f\"\\nPositive ratio: {pos/(pos+neg)}\")\n",
    "print(f\"Negative ratio: {neg/(pos+neg)}\")"
   ]
  },
  {
   "cell_type": "markdown",
   "id": "b72661e8",
   "metadata": {},
   "source": [
    "We observe that the classes are balanced"
   ]
  },
  {
   "cell_type": "markdown",
   "id": "82b52ebe",
   "metadata": {},
   "source": [
    "### KNN Classifier"
   ]
  },
  {
   "cell_type": "code",
   "execution_count": 15,
   "id": "db491261",
   "metadata": {},
   "outputs": [],
   "source": [
    "from sklearn.neighbors import KNeighborsClassifier"
   ]
  },
  {
   "cell_type": "markdown",
   "id": "ff613bf3",
   "metadata": {},
   "source": [
    "We need to recompute the vectorization"
   ]
  },
  {
   "cell_type": "code",
   "execution_count": 16,
   "id": "33551abe",
   "metadata": {},
   "outputs": [],
   "source": [
    "# Vectorize text reviews to numbers using TF-IDF\n",
    "x = data['text']\n",
    "y = data['tag']\n",
    "vec = TfidfVectorizer(stop_words='english')\n",
    "X_encoded = vec.fit_transform(x)\n",
    "\n",
    "# Split into training and testing data\n",
    "X_train, X_test, y_train, y_test = train_test_split(X_encoded, y, stratify=y, test_size=0.25, random_state=42)"
   ]
  },
  {
   "cell_type": "markdown",
   "id": "87fc8849",
   "metadata": {},
   "source": [
    "Train the KNN Classifier on the test set"
   ]
  },
  {
   "cell_type": "code",
   "execution_count": 17,
   "id": "9c22de2f",
   "metadata": {},
   "outputs": [],
   "source": [
    "# Create a k-nearest neighbours classifier\n",
    "modelKNN = KNeighborsClassifier(n_neighbors=5) # Set the number of neighbours\n",
    "\n",
    "# Fit the classifier and obtain predicted probabilities\n",
    "modelKNN.fit(X_train, y_train)\n",
    "y_pred = modelKNN.predict(X_test)"
   ]
  },
  {
   "cell_type": "markdown",
   "id": "923a9c69",
   "metadata": {},
   "source": [
    "Accuracy and F1"
   ]
  },
  {
   "cell_type": "code",
   "execution_count": 18,
   "id": "b952503b",
   "metadata": {},
   "outputs": [
    {
     "name": "stdout",
     "output_type": "stream",
     "text": [
      "Accuracy with KNN classifier:  49.81424148606811\n"
     ]
    }
   ],
   "source": [
    "accuracy = accuracy_score(y_test, y_pred) \n",
    "print(\"Accuracy with KNN classifier: \", 100*accuracy)"
   ]
  },
  {
   "cell_type": "code",
   "execution_count": 19,
   "id": "77f14876",
   "metadata": {},
   "outputs": [
    {
     "name": "stdout",
     "output_type": "stream",
     "text": [
      "F1 with KNN classifier:  0.30399313009875484\n"
     ]
    }
   ],
   "source": [
    "F1 = metrics.f1_score(y_test, y_pred)\n",
    "print(\"F1 with KNN classifier: \", F1)"
   ]
  },
  {
   "cell_type": "markdown",
   "id": "e65922da",
   "metadata": {},
   "source": [
    "Prec-Rec curve"
   ]
  },
  {
   "cell_type": "code",
   "execution_count": 20,
   "id": "8c065b2a",
   "metadata": {},
   "outputs": [
    {
     "data": {
      "image/png": "[encoded data removed]",
      "text/plain": [
       "<Figure size 640x480 with 1 Axes>"
      ]
     },
     "metadata": {},
     "output_type": "display_data"
    }
   ],
   "source": [
    "from sklearn.metrics import precision_recall_curve\n",
    "import matplotlib.pyplot as plt\n",
    "\n",
    "# Fit the classifier and obtain predicted probabilities\n",
    "probas_pred = modelKNN.predict_proba(X_test)\n",
    "probas_positive = probas_pred[:, 1]\n",
    "\n",
    "# Calculate precision and recall values\n",
    "precision, recall, _ = precision_recall_curve(y_test, probas_positive)\n",
    "\n",
    "# Plot precision-recall curve\n",
    "plt.plot(recall, precision, label='Precision-Recall Curve')\n",
    "plt.xlabel('Recall')\n",
    "plt.ylabel('Precision')\n",
    "plt.title('Precision-Recall Curve (KNN)')\n",
    "plt.legend()\n",
    "plt.show()"
   ]
  },
  {
   "cell_type": "markdown",
   "id": "e5ce6fe3",
   "metadata": {},
   "source": [
    "Roc curve"
   ]
  },
  {
   "cell_type": "code",
   "execution_count": 21,
   "id": "a620edfd",
   "metadata": {},
   "outputs": [],
   "source": [
    "from sklearn.feature_extraction.text import TfidfVectorizer\n",
    "from sklearn.metrics import roc_curve, auc\n",
    "\n",
    "# Split into training and testing data\n",
    "x = data['text']\n",
    "y = data['tag']\n",
    "X_train, X_test, y_train, y_test = train_test_split(x, y, stratify=y, test_size=0.25, random_state=42)\n",
    "\n",
    "# Convert text data into numerical features\n",
    "vectorizer = TfidfVectorizer()\n",
    "X_train_transformed = vectorizer.fit_transform(X_train)\n",
    "X_test_transformed = vectorizer.transform(X_test)\n",
    "\n",
    "# Create and train your classifier\n",
    "classifier = KNeighborsClassifier()\n",
    "classifier.fit(X_train_transformed, y_train)\n",
    "\n",
    "# Obtain predicted probabilities for the positive class\n",
    "y_score = classifier.predict_proba(X_test_transformed)[:, 1]\n",
    "\n",
    "# Compute the false positive rate, true positive rate, and thresholds\n",
    "fpr, tpr, thresholds = roc_curve(y_test, y_score)\n",
    "\n",
    "# Calculate the area under the ROC curve\n",
    "roc_auc = auc(fpr, tpr)"
   ]
  },
  {
   "cell_type": "code",
   "execution_count": 22,
   "id": "b6c81ae8",
   "metadata": {},
   "outputs": [
    {
     "data": {
      "image/png": "[encoded data removed]",
      "text/plain": [
       "<Figure size 640x480 with 1 Axes>"
      ]
     },
     "metadata": {},
     "output_type": "display_data"
    }
   ],
   "source": [
    "# Plot the ROC curve\n",
    "plt.figure()\n",
    "plt.plot(fpr, tpr, label='ROC curve (AUC = %0.2f)' % roc_auc)\n",
    "plt.plot([0, 1], [0, 1], 'k--')  # Random guess line\n",
    "plt.xlim([0.0, 1.0])\n",
    "plt.ylim([0.0, 1.05])\n",
    "plt.xlabel('False Positive Rate')\n",
    "plt.ylabel('True Positive Rate')\n",
    "plt.title('Receiver Operating Characteristic')\n",
    "plt.legend(loc='lower right')\n",
    "plt.show()"
   ]
  },
  {
   "cell_type": "markdown",
   "id": "9aadc103",
   "metadata": {},
   "source": [
    "Confusion matrix"
   ]
  },
  {
   "cell_type": "code",
   "execution_count": 23,
   "id": "8df56457",
   "metadata": {},
   "outputs": [
    {
     "name": "stdout",
     "output_type": "stream",
     "text": [
      "confusion matrix \n",
      " [[1255  331]\n",
      " [1290  354]] \n",
      "\n",
      "True negative    \t 1255 --> predicted as negative, and really negative :) \n",
      "False positive   \t 331  --> predicted as positive, but negative :( \n",
      "False negative  \t 1290  --> predicted as negative, but positive :( \n",
      "True positive   \t 354  --> predicted as positive, and really positive :) \n"
     ]
    }
   ],
   "source": [
    "from sklearn import metrics\n",
    "\n",
    "conf_mat = metrics.confusion_matrix(y_test, y_pred)\n",
    "print(\"confusion matrix \\n\",conf_mat,\"\\n\")\n",
    "print(\"True negative    \\t\",conf_mat[0][0],\"--> predicted as negative, and really negative :) \")\n",
    "print(\"False positive   \\t\",conf_mat[0][1],\" --> predicted as positive, but negative :( \")\n",
    "print(\"False negative  \\t\",conf_mat[1][0],\" --> predicted as negative, but positive :( \")\n",
    "print(\"True positive   \\t\",conf_mat[1][1],\" --> predicted as positive, and really positive :) \")"
   ]
  },
  {
   "cell_type": "markdown",
   "id": "1bee25a4",
   "metadata": {},
   "source": [
    "## SVM Classifier"
   ]
  },
  {
   "cell_type": "code",
   "execution_count": 24,
   "id": "486f6cc7",
   "metadata": {},
   "outputs": [],
   "source": [
    "from sklearn import svm"
   ]
  },
  {
   "cell_type": "markdown",
   "id": "0a279a8d",
   "metadata": {},
   "source": [
    "We need to recompute the vectorization"
   ]
  },
  {
   "cell_type": "code",
   "execution_count": 25,
   "id": "10077d04",
   "metadata": {},
   "outputs": [],
   "source": [
    "# Vectorize text reviews to numbers using TF-IDF\n",
    "x = data['text']\n",
    "y = data['tag']\n",
    "vec = TfidfVectorizer(stop_words='english')\n",
    "X_encoded = vec.fit_transform(x)\n",
    "\n",
    "# Split into training and testing data\n",
    "X_train, X_test, y_train, y_test = train_test_split(X_encoded, y, stratify=y, test_size=0.25, random_state=42)"
   ]
  },
  {
   "cell_type": "markdown",
   "id": "7a8ad01a",
   "metadata": {},
   "source": [
    "Train the classifier on the test set"
   ]
  },
  {
   "cell_type": "code",
   "execution_count": 26,
   "id": "09fbc13b",
   "metadata": {},
   "outputs": [],
   "source": [
    "# Train an SVM classifier and compute the accuracy score on the test set\n",
    "modelSVM = svm.SVC(kernel='linear', probability=True)  # Linear Kernel\n",
    "modelSVM.fit(X_train, y_train)\n",
    "y_pred = modelSVM.predict(X_test)"
   ]
  },
  {
   "cell_type": "markdown",
   "id": "968c9370",
   "metadata": {},
   "source": [
    "Accuracy and F1"
   ]
  },
  {
   "cell_type": "code",
   "execution_count": 27,
   "id": "9dab8a0a",
   "metadata": {},
   "outputs": [
    {
     "name": "stdout",
     "output_type": "stream",
     "text": [
      "Accuracy with SVM classifier:  62.63157894736842\n"
     ]
    }
   ],
   "source": [
    "accuracy = accuracy_score(y_test, y_pred)\n",
    "print(\"Accuracy with SVM classifier: \", 100*accuracy)"
   ]
  },
  {
   "cell_type": "code",
   "execution_count": 28,
   "id": "7e58c38a",
   "metadata": {},
   "outputs": [
    {
     "name": "stdout",
     "output_type": "stream",
     "text": [
      "F1 with SVM classifier:  0.6289578850292038\n"
     ]
    }
   ],
   "source": [
    "F1 = metrics.f1_score(y_test, y_pred)\n",
    "print(\"F1 with SVM classifier: \", F1)"
   ]
  },
  {
   "cell_type": "markdown",
   "id": "a2207dfe",
   "metadata": {},
   "source": [
    "Prec-Rec curve"
   ]
  },
  {
   "cell_type": "code",
   "execution_count": 30,
   "id": "2c64392f",
   "metadata": {},
   "outputs": [
    {
     "data": {
      "image/png": "[encoded data removed]",
      "text/plain": [
       "<Figure size 640x480 with 1 Axes>"
      ]
     },
     "metadata": {},
     "output_type": "display_data"
    }
   ],
   "source": [
    "from sklearn.metrics import precision_recall_curve\n",
    "import matplotlib.pyplot as plt\n",
    "\n",
    "# Fit the classifier and obtain predicted probabilities\n",
    "probas_pred = modelSVM.predict_proba(X_test)\n",
    "probas_positive = probas_pred[:, 1]\n",
    "\n",
    "# Calculate precision and recall values\n",
    "precision, recall, _ = precision_recall_curve(y_test, probas_positive)\n",
    "\n",
    "# Plot precision-recall curve\n",
    "plt.plot(recall, precision, label='Precision-Recall Curve')\n",
    "plt.xlabel('Recall')\n",
    "plt.ylabel('Precision')\n",
    "plt.title('Precision-Recall Curve (SVM)')\n",
    "plt.legend()\n",
    "plt.show()"
   ]
  },
  {
   "cell_type": "markdown",
   "id": "c0e817cd",
   "metadata": {},
   "source": [
    "Roc curve"
   ]
  },
  {
   "cell_type": "code",
   "execution_count": 31,
   "id": "71d30dcd",
   "metadata": {},
   "outputs": [],
   "source": [
    "from sklearn.feature_extraction.text import TfidfVectorizer\n",
    "from sklearn.metrics import roc_curve, auc\n",
    "\n",
    "# Split into training and testing data\n",
    "x = data['text']\n",
    "y = data['tag']\n",
    "X_train, X_test, y_train, y_test = train_test_split(x, y, stratify=y, test_size=0.25, random_state=42)\n",
    "\n",
    "# Convert text data into numerical features\n",
    "vectorizer = TfidfVectorizer()\n",
    "X_train_transformed = vectorizer.fit_transform(X_train)\n",
    "X_test_transformed = vectorizer.transform(X_test)\n",
    "\n",
    "# Create and train your classifier\n",
    "classifier = svm.SVC(kernel='linear', probability=True)  # Linear Kernel\n",
    "classifier.fit(X_train_transformed, y_train)\n",
    "\n",
    "# Obtain predicted probabilities for the positive class\n",
    "y_score = classifier.predict_proba(X_test_transformed)[:, 1]\n",
    "\n",
    "# Compute the false positive rate, true positive rate, and thresholds\n",
    "fpr, tpr, thresholds = roc_curve(y_test, y_score)\n",
    "\n",
    "# Calculate the area under the ROC curve\n",
    "roc_auc = auc(fpr, tpr)"
   ]
  },
  {
   "cell_type": "code",
   "execution_count": 32,
   "id": "a7f96313",
   "metadata": {},
   "outputs": [
    {
     "data": {
      "image/png": "[encoded data removed]",
      "text/plain": [
       "<Figure size 640x480 with 1 Axes>"
      ]
     },
     "metadata": {},
     "output_type": "display_data"
    }
   ],
   "source": [
    "# Plot the ROC curve\n",
    "plt.figure()\n",
    "plt.plot(fpr, tpr, label='ROC curve (AUC = %0.2f)' % roc_auc)\n",
    "plt.plot([0, 1], [0, 1], 'k--')  # Random guess line\n",
    "plt.xlim([0.0, 1.0])\n",
    "plt.ylim([0.0, 1.05])\n",
    "plt.xlabel('False Positive Rate')\n",
    "plt.ylabel('True Positive Rate')\n",
    "plt.title('Receiver Operating Characteristic')\n",
    "plt.legend(loc='lower right')\n",
    "plt.show()"
   ]
  },
  {
   "cell_type": "markdown",
   "id": "548b4574",
   "metadata": {},
   "source": [
    "Confusion matrix"
   ]
  },
  {
   "cell_type": "code",
   "execution_count": 33,
   "id": "04ccfc4c",
   "metadata": {},
   "outputs": [
    {
     "name": "stdout",
     "output_type": "stream",
     "text": [
      "confusion matrix \n",
      " [[1000  586]\n",
      " [ 621 1023]] \n",
      "\n",
      "True negative    \t 1000 --> predicted as negative, and really negative :) \n",
      "False positive   \t 586  --> predicted as positive, but negative :( \n",
      "False negative  \t 621  --> predicted as negative, but positive :( \n",
      "True positive   \t 1023  --> predicted as positive, and really positive :) \n"
     ]
    }
   ],
   "source": [
    "from sklearn import metrics\n",
    "\n",
    "conf_mat = metrics.confusion_matrix(y_test, y_pred)\n",
    "print(\"confusion matrix \\n\",conf_mat,\"\\n\")\n",
    "print(\"True negative    \\t\",conf_mat[0][0],\"--> predicted as negative, and really negative :) \")\n",
    "print(\"False positive   \\t\",conf_mat[0][1],\" --> predicted as positive, but negative :( \")\n",
    "print(\"False negative  \\t\",conf_mat[1][0],\" --> predicted as negative, but positive :( \")\n",
    "print(\"True positive   \\t\",conf_mat[1][1],\" --> predicted as positive, and really positive :) \")"
   ]
  },
  {
   "cell_type": "markdown",
   "id": "76238ea2",
   "metadata": {},
   "source": [
    "## Naive Bayes Classifier"
   ]
  },
  {
   "cell_type": "code",
   "execution_count": 34,
   "id": "0cbfad03",
   "metadata": {},
   "outputs": [],
   "source": [
    "from sklearn.naive_bayes import MultinomialNB"
   ]
  },
  {
   "cell_type": "markdown",
   "id": "999e94a6",
   "metadata": {},
   "source": [
    "We need to recompute the vectorization"
   ]
  },
  {
   "cell_type": "code",
   "execution_count": 35,
   "id": "544f6598",
   "metadata": {},
   "outputs": [],
   "source": [
    "# Vectorize text reviews to numbers using TF-IDF\n",
    "x = data['text']\n",
    "y = data['tag']\n",
    "vec = TfidfVectorizer(stop_words='english')\n",
    "X_encoded = vec.fit_transform(x)\n",
    "\n",
    "# Split into training and testing data\n",
    "X_train, X_test, y_train, y_test = train_test_split(X_encoded, y, stratify=y, test_size=0.25, random_state=42)"
   ]
  },
  {
   "cell_type": "markdown",
   "id": "b235fa42",
   "metadata": {},
   "source": [
    "Train the classifier on the test set"
   ]
  },
  {
   "cell_type": "code",
   "execution_count": 36,
   "id": "690d77ce",
   "metadata": {},
   "outputs": [],
   "source": [
    "modelNB = MultinomialNB()\n",
    "modelNB.fit(X_train, y_train)\n",
    "y_pred = modelNB.predict(X_test)"
   ]
  },
  {
   "cell_type": "markdown",
   "id": "5dbd7371",
   "metadata": {},
   "source": [
    "Accuracy and F1"
   ]
  },
  {
   "cell_type": "code",
   "execution_count": 37,
   "id": "160d0c90",
   "metadata": {},
   "outputs": [
    {
     "name": "stdout",
     "output_type": "stream",
     "text": [
      "Accuracy with Naive Bayes classifier:  64.52012383900929\n"
     ]
    }
   ],
   "source": [
    "accuracy = accuracy_score(y_test, y_pred)\n",
    "print(\"Accuracy with Naive Bayes classifier: \", 100*accuracy)"
   ]
  },
  {
   "cell_type": "code",
   "execution_count": 38,
   "id": "ace2fcec",
   "metadata": {},
   "outputs": [
    {
     "name": "stdout",
     "output_type": "stream",
     "text": [
      "F1 with Naive Bayes classifier:  0.659131469363474\n"
     ]
    }
   ],
   "source": [
    "F1 = metrics.f1_score(y_test, y_pred)\n",
    "print(\"F1 with Naive Bayes classifier: \", F1)"
   ]
  },
  {
   "cell_type": "markdown",
   "id": "ca144674",
   "metadata": {},
   "source": [
    "Prec-rec curve"
   ]
  },
  {
   "cell_type": "code",
   "execution_count": 39,
   "id": "c27da369",
   "metadata": {},
   "outputs": [
    {
     "data": {
      "image/png": "[encoded data removed]",
      "text/plain": [
       "<Figure size 640x480 with 1 Axes>"
      ]
     },
     "metadata": {},
     "output_type": "display_data"
    }
   ],
   "source": [
    "from sklearn.metrics import precision_recall_curve\n",
    "import matplotlib.pyplot as plt\n",
    "\n",
    "# Fit the classifier and obtain predicted probabilities\n",
    "probas_pred = modelNB.predict_proba(X_test)\n",
    "probas_positive = probas_pred[:, 1]\n",
    "\n",
    "# Calculate precision and recall values\n",
    "precision, recall, _ = precision_recall_curve(y_test, probas_positive)\n",
    "\n",
    "# Plot precision-recall curve\n",
    "plt.plot(recall, precision, label='Precision-Recall Curve')\n",
    "plt.xlabel('Recall')\n",
    "plt.ylabel('Precision')\n",
    "plt.title('Precision-Recall Curve (Naive Bayes)')\n",
    "plt.legend()\n",
    "plt.show()"
   ]
  },
  {
   "cell_type": "markdown",
   "id": "fbf37541",
   "metadata": {},
   "source": [
    "Roc curve"
   ]
  },
  {
   "cell_type": "code",
   "execution_count": 40,
   "id": "68217ee0",
   "metadata": {},
   "outputs": [],
   "source": [
    "from sklearn.feature_extraction.text import TfidfVectorizer\n",
    "from sklearn.metrics import roc_curve, auc\n",
    "\n",
    "# Split into training and testing data\n",
    "x = data['text']\n",
    "y = data['tag']\n",
    "X_train, X_test, y_train, y_test = train_test_split(x, y, stratify=y, test_size=0.25, random_state=42)\n",
    "\n",
    "# Convert text data into numerical features\n",
    "vectorizer = TfidfVectorizer()\n",
    "X_train_transformed = vectorizer.fit_transform(X_train)\n",
    "X_test_transformed = vectorizer.transform(X_test)\n",
    "\n",
    "# Create and train your classifier\n",
    "classifier = MultinomialNB()\n",
    "classifier.fit(X_train_transformed, y_train)\n",
    "\n",
    "# Obtain predicted probabilities for the positive class\n",
    "y_score = classifier.predict_proba(X_test_transformed)[:, 1]\n",
    "\n",
    "# Compute the false positive rate, true positive rate, and thresholds\n",
    "fpr, tpr, thresholds = roc_curve(y_test, y_score)\n",
    "\n",
    "# Calculate the area under the ROC curve\n",
    "roc_auc = auc(fpr, tpr)"
   ]
  },
  {
   "cell_type": "code",
   "execution_count": 41,
   "id": "e948791a",
   "metadata": {},
   "outputs": [
    {
     "data": {
      "image/png": "[encoded data removed]",
      "text/plain": [
       "<Figure size 640x480 with 1 Axes>"
      ]
     },
     "metadata": {},
     "output_type": "display_data"
    }
   ],
   "source": [
    "# Plot the ROC curve\n",
    "plt.figure()\n",
    "plt.plot(fpr, tpr, label='ROC curve (AUC = %0.2f)' % roc_auc)\n",
    "plt.plot([0, 1], [0, 1], 'k--')  # Random guess line\n",
    "plt.xlim([0.0, 1.0])\n",
    "plt.ylim([0.0, 1.05])\n",
    "plt.xlabel('False Positive Rate')\n",
    "plt.ylabel('True Positive Rate')\n",
    "plt.title('Receiver Operating Characteristic')\n",
    "plt.legend(loc='lower right')\n",
    "plt.show()"
   ]
  },
  {
   "cell_type": "markdown",
   "id": "d9509987",
   "metadata": {},
   "source": [
    "Confusion matrix"
   ]
  },
  {
   "cell_type": "code",
   "execution_count": 42,
   "id": "bd125198",
   "metadata": {},
   "outputs": [
    {
     "name": "stdout",
     "output_type": "stream",
     "text": [
      "confusion matrix \n",
      " [[ 976  610]\n",
      " [ 536 1108]] \n",
      "\n",
      "True negative    \t 976 --> predicted as negative, and really negative :) \n",
      "False positive   \t 610  --> predicted as positive, but negative :( \n",
      "False negative  \t 536  --> predicted as negative, but positive :( \n",
      "True positive   \t 1108  --> predicted as positive, and really positive :) \n"
     ]
    }
   ],
   "source": [
    "from sklearn import metrics\n",
    "\n",
    "conf_mat = metrics.confusion_matrix(y_test, y_pred)\n",
    "print(\"confusion matrix \\n\",conf_mat,\"\\n\")\n",
    "print(\"True negative    \\t\",conf_mat[0][0],\"--> predicted as negative, and really negative :) \")\n",
    "print(\"False positive   \\t\",conf_mat[0][1],\" --> predicted as positive, but negative :( \")\n",
    "print(\"False negative  \\t\",conf_mat[1][0],\" --> predicted as negative, but positive :( \")\n",
    "print(\"True positive   \\t\",conf_mat[1][1],\" --> predicted as positive, and really positive :) \")"
   ]
  },
  {
   "cell_type": "markdown",
   "id": "c4e8ccc6",
   "metadata": {},
   "source": [
    "## Decision Tree Classifier"
   ]
  },
  {
   "cell_type": "code",
   "execution_count": 43,
   "id": "e220ed9e",
   "metadata": {},
   "outputs": [],
   "source": [
    "from sklearn.tree import DecisionTreeClassifier"
   ]
  },
  {
   "cell_type": "markdown",
   "id": "5d7e9ebc",
   "metadata": {},
   "source": [
    "We need to recompute the vectorization"
   ]
  },
  {
   "cell_type": "code",
   "execution_count": 44,
   "id": "9fb5895a",
   "metadata": {},
   "outputs": [],
   "source": [
    "# Vectorize text reviews to numbers using TF-IDF\n",
    "x = data['text']\n",
    "y = data['tag']\n",
    "vec = TfidfVectorizer(stop_words='english')\n",
    "X_encoded = vec.fit_transform(x)\n",
    "\n",
    "# Split into training and testing data\n",
    "X_train, X_test, y_train, y_test = train_test_split(X_encoded, y, stratify=y, test_size=0.25, random_state=42)"
   ]
  },
  {
   "cell_type": "markdown",
   "id": "5ff7ba64",
   "metadata": {},
   "source": [
    "Train the classifier on the test set"
   ]
  },
  {
   "cell_type": "code",
   "execution_count": 45,
   "id": "be93795e",
   "metadata": {},
   "outputs": [],
   "source": [
    "modelDT = DecisionTreeClassifier()\n",
    "modelDT.fit(X_train, y_train)\n",
    "y_pred = modelDT.predict(X_test)"
   ]
  },
  {
   "cell_type": "markdown",
   "id": "bec33fca",
   "metadata": {},
   "source": [
    "Accuracy and F1"
   ]
  },
  {
   "cell_type": "code",
   "execution_count": 46,
   "id": "d20da136",
   "metadata": {},
   "outputs": [
    {
     "name": "stdout",
     "output_type": "stream",
     "text": [
      "Accuracy with Decision Trees classifier:  54.27244582043343\n"
     ]
    }
   ],
   "source": [
    "accuracy = accuracy_score(y_test, y_pred)\n",
    "print(\"Accuracy with Decision Trees classifier: \", 100*accuracy)"
   ]
  },
  {
   "cell_type": "code",
   "execution_count": 47,
   "id": "79316869",
   "metadata": {},
   "outputs": [
    {
     "name": "stdout",
     "output_type": "stream",
     "text": [
      "F1 with Decision Trees classifier:  0.5209211806681804\n"
     ]
    }
   ],
   "source": [
    "F1 = metrics.f1_score(y_test, y_pred)\n",
    "print(\"F1 with Decision Trees classifier: \", F1)"
   ]
  },
  {
   "cell_type": "markdown",
   "id": "035d487c",
   "metadata": {},
   "source": [
    "Prec-rec curve"
   ]
  },
  {
   "cell_type": "code",
   "execution_count": 48,
   "id": "4175ce29",
   "metadata": {},
   "outputs": [
    {
     "data": {
      "image/png": "[encoded data removed]",
      "text/plain": [
       "<Figure size 640x480 with 1 Axes>"
      ]
     },
     "metadata": {},
     "output_type": "display_data"
    }
   ],
   "source": [
    "from sklearn.metrics import precision_recall_curve\n",
    "import matplotlib.pyplot as plt\n",
    "\n",
    "# Fit the classifier and obtain predicted probabilities\n",
    "probas_pred = modelDT.predict_proba(X_test)\n",
    "probas_positive = probas_pred[:, 1]\n",
    "\n",
    "# Calculate precision and recall values\n",
    "precision, recall, _ = precision_recall_curve(y_test, probas_positive)\n",
    "\n",
    "# Plot precision-recall curve\n",
    "plt.plot(recall, precision, label='Precision-Recall Curve')\n",
    "plt.xlabel('Recall')\n",
    "plt.ylabel('Precision')\n",
    "plt.title('Precision-Recall Curve (Decision Trees)')\n",
    "plt.legend()\n",
    "plt.show()"
   ]
  },
  {
   "cell_type": "markdown",
   "id": "ddceeaf3",
   "metadata": {},
   "source": [
    "Roc curve"
   ]
  },
  {
   "cell_type": "code",
   "execution_count": 49,
   "id": "7c7bdc18",
   "metadata": {},
   "outputs": [],
   "source": [
    "from sklearn.feature_extraction.text import TfidfVectorizer\n",
    "from sklearn.metrics import roc_curve, auc\n",
    "\n",
    "# Split into training and testing data\n",
    "x = data['text']\n",
    "y = data['tag']\n",
    "X_train, X_test, y_train, y_test = train_test_split(x, y, stratify=y, test_size=0.25, random_state=42)\n",
    "\n",
    "# Convert text data into numerical features\n",
    "vectorizer = TfidfVectorizer()\n",
    "X_train_transformed = vectorizer.fit_transform(X_train)\n",
    "X_test_transformed = vectorizer.transform(X_test)\n",
    "\n",
    "# Create and train your classifier\n",
    "classifier = DecisionTreeClassifier()\n",
    "classifier.fit(X_train_transformed, y_train)\n",
    "\n",
    "# Obtain predicted probabilities for the positive class\n",
    "y_score = classifier.predict_proba(X_test_transformed)[:, 1]\n",
    "\n",
    "# Compute the false positive rate, true positive rate, and thresholds\n",
    "fpr, tpr, thresholds = roc_curve(y_test, y_score)\n",
    "\n",
    "# Calculate the area under the ROC curve\n",
    "roc_auc = auc(fpr, tpr)"
   ]
  },
  {
   "cell_type": "code",
   "execution_count": 50,
   "id": "fa328bcf",
   "metadata": {},
   "outputs": [
    {
     "data": {
      "image/png": "[encoded data removed]",
      "text/plain": [
       "<Figure size 640x480 with 1 Axes>"
      ]
     },
     "metadata": {},
     "output_type": "display_data"
    }
   ],
   "source": [
    "# Plot the ROC curve\n",
    "plt.figure()\n",
    "plt.plot(fpr, tpr, label='ROC curve (AUC = %0.2f)' % roc_auc)\n",
    "plt.plot([0, 1], [0, 1], 'k--')  # Random guess line\n",
    "plt.xlim([0.0, 1.0])\n",
    "plt.ylim([0.0, 1.05])\n",
    "plt.xlabel('False Positive Rate')\n",
    "plt.ylabel('True Positive Rate')\n",
    "plt.title('Receiver Operating Characteristic')\n",
    "plt.legend(loc='lower right')\n",
    "plt.show()"
   ]
  },
  {
   "cell_type": "markdown",
   "id": "59143a71",
   "metadata": {},
   "source": [
    "Confusion matrix"
   ]
  },
  {
   "cell_type": "code",
   "execution_count": 51,
   "id": "fee54222",
   "metadata": {},
   "outputs": [
    {
     "name": "stdout",
     "output_type": "stream",
     "text": [
      "confusion matrix \n",
      " [[950 636]\n",
      " [841 803]] \n",
      "\n",
      "True negative    \t 950 --> predicted as negative, and really negative :) \n",
      "False positive   \t 636  --> predicted as positive, but negative :( \n",
      "False negative  \t 841  --> predicted as negative, but positive :( \n",
      "True positive   \t 803  --> predicted as positive, and really positive :) \n"
     ]
    }
   ],
   "source": [
    "from sklearn import metrics\n",
    "\n",
    "conf_mat = metrics.confusion_matrix(y_test, y_pred)\n",
    "print(\"confusion matrix \\n\",conf_mat,\"\\n\")\n",
    "print(\"True negative    \\t\",conf_mat[0][0],\"--> predicted as negative, and really negative :) \")\n",
    "print(\"False positive   \\t\",conf_mat[0][1],\" --> predicted as positive, but negative :( \")\n",
    "print(\"False negative  \\t\",conf_mat[1][0],\" --> predicted as negative, but positive :( \")\n",
    "print(\"True positive   \\t\",conf_mat[1][1],\" --> predicted as positive, and really positive :) \")"
   ]
  },
  {
   "cell_type": "markdown",
   "id": "a7ba48da",
   "metadata": {},
   "source": [
    "### 8. discuss the results."
   ]
  },
  {
   "cell_type": "markdown",
   "id": "3ec3fb7c",
   "metadata": {},
   "source": [
    "See Conlusion.pdf file"
   ]
  },
  {
   "cell_type": "markdown",
   "id": "24bcec69",
   "metadata": {},
   "source": [
    "## 2. Clustering of wine types\n",
    "\n",
    "1. perform Kmeans with several values for K (that is the number of clusters) for the wine dataset in Sklearn: `wine = load_wine()`;\n",
    "(https://scikit-learn.org/stable/modules/generated/sklearn.datasets.load_wine.html)\n",
    "2. use the Elbow method for choosing a right number for K and perform the clustering;\n",
    "3. as the wine dataset provides the true labels in `wine.target` compute the accuracy and the confusion matrix (search the relative Sklearn functions):\n",
    "    - the cluster labels computed by kmeans are just artificial labels that do not share anything with the true labels. You have to infer the predicted labels from the clusters by using the true labels in `wine.target`. You can use a voting criterion: the predicted cluster label will be the one with more instances in the cluster. For example, if a cluster contains images corresponding to these faces [1,2,3,1,1,1], then the cluster label will be with 1.\n",
    "4. Give your own comments and analysis on points 1, 2 and 3. Does the plots in points 2 and 3 indicate the same value for K?"
   ]
  },
  {
   "cell_type": "markdown",
   "id": "385bf9db",
   "metadata": {},
   "source": [
    "### 1. Perform Kmeans with several values for K (that is the number of clusters) for the wine dataset in Sklearn"
   ]
  },
  {
   "cell_type": "code",
   "execution_count": 44,
   "id": "41a1914e",
   "metadata": {},
   "outputs": [],
   "source": [
    "import pandas as pd\n",
    "import seaborn as sns\n",
    "import numpy as np\n",
    "import matplotlib.pyplot as plt\n",
    "from sklearn.preprocessing import StandardScaler\n",
    "from sklearn.datasets import load_wine\n",
    "from sklearn.cluster import KMeans\n",
    "from sklearn.decomposition import PCA\n",
    "import warnings\n",
    "warnings.filterwarnings('ignore') "
   ]
  },
  {
   "cell_type": "markdown",
   "id": "d0912730",
   "metadata": {},
   "source": [
    "Import data"
   ]
  },
  {
   "cell_type": "code",
   "execution_count": 45,
   "id": "6cea67ea",
   "metadata": {},
   "outputs": [
    {
     "name": "stdout",
     "output_type": "stream",
     "text": [
      "<class 'pandas.core.frame.DataFrame'>\n",
      "RangeIndex: 178 entries, 0 to 177\n",
      "Data columns (total 14 columns):\n",
      " #   Column                        Non-Null Count  Dtype  \n",
      "---  ------                        --------------  -----  \n",
      " 0   alcohol                       178 non-null    float64\n",
      " 1   malic_acid                    178 non-null    float64\n",
      " 2   ash                           178 non-null    float64\n",
      " 3   alcalinity_of_ash             178 non-null    float64\n",
      " 4   magnesium                     178 non-null    float64\n",
      " 5   total_phenols                 178 non-null    float64\n",
      " 6   flavanoids                    178 non-null    float64\n",
      " 7   nonflavanoid_phenols          178 non-null    float64\n",
      " 8   proanthocyanins               178 non-null    float64\n",
      " 9   color_intensity               178 non-null    float64\n",
      " 10  hue                           178 non-null    float64\n",
      " 11  od280/od315_of_diluted_wines  178 non-null    float64\n",
      " 12  proline                       178 non-null    float64\n",
      " 13  target                        178 non-null    int32  \n",
      "dtypes: float64(13), int32(1)\n",
      "memory usage: 18.9 KB\n"
     ]
    },
    {
     "data": {
      "text/html": [
       "<div>\n",
       "<style scoped>\n",
       "    .dataframe tbody tr th:only-of-type {\n",
       "        vertical-align: middle;\n",
       "    }\n",
       "\n",
       "    .dataframe tbody tr th {\n",
       "        vertical-align: top;\n",
       "    }\n",
       "\n",
       "    .dataframe thead th {\n",
       "        text-align: right;\n",
       "    }\n",
       "</style>\n",
       "<table border=\"1\" class=\"dataframe\">\n",
       "  <thead>\n",
       "    <tr style=\"text-align: right;\">\n",
       "      <th></th>\n",
       "      <th>alcohol</th>\n",
       "      <th>malic_acid</th>\n",
       "      <th>ash</th>\n",
       "      <th>alcalinity_of_ash</th>\n",
       "      <th>magnesium</th>\n",
       "      <th>total_phenols</th>\n",
       "      <th>flavanoids</th>\n",
       "      <th>nonflavanoid_phenols</th>\n",
       "      <th>proanthocyanins</th>\n",
       "      <th>color_intensity</th>\n",
       "      <th>hue</th>\n",
       "      <th>od280/od315_of_diluted_wines</th>\n",
       "      <th>proline</th>\n",
       "      <th>target</th>\n",
       "    </tr>\n",
       "  </thead>\n",
       "  <tbody>\n",
       "    <tr>\n",
       "      <th>0</th>\n",
       "      <td>14.23</td>\n",
       "      <td>1.71</td>\n",
       "      <td>2.43</td>\n",
       "      <td>15.6</td>\n",
       "      <td>127.0</td>\n",
       "      <td>2.80</td>\n",
       "      <td>3.06</td>\n",
       "      <td>0.28</td>\n",
       "      <td>2.29</td>\n",
       "      <td>5.64</td>\n",
       "      <td>1.04</td>\n",
       "      <td>3.92</td>\n",
       "      <td>1065.0</td>\n",
       "      <td>0</td>\n",
       "    </tr>\n",
       "    <tr>\n",
       "      <th>1</th>\n",
       "      <td>13.20</td>\n",
       "      <td>1.78</td>\n",
       "      <td>2.14</td>\n",
       "      <td>11.2</td>\n",
       "      <td>100.0</td>\n",
       "      <td>2.65</td>\n",
       "      <td>2.76</td>\n",
       "      <td>0.26</td>\n",
       "      <td>1.28</td>\n",
       "      <td>4.38</td>\n",
       "      <td>1.05</td>\n",
       "      <td>3.40</td>\n",
       "      <td>1050.0</td>\n",
       "      <td>0</td>\n",
       "    </tr>\n",
       "    <tr>\n",
       "      <th>2</th>\n",
       "      <td>13.16</td>\n",
       "      <td>2.36</td>\n",
       "      <td>2.67</td>\n",
       "      <td>18.6</td>\n",
       "      <td>101.0</td>\n",
       "      <td>2.80</td>\n",
       "      <td>3.24</td>\n",
       "      <td>0.30</td>\n",
       "      <td>2.81</td>\n",
       "      <td>5.68</td>\n",
       "      <td>1.03</td>\n",
       "      <td>3.17</td>\n",
       "      <td>1185.0</td>\n",
       "      <td>0</td>\n",
       "    </tr>\n",
       "    <tr>\n",
       "      <th>3</th>\n",
       "      <td>14.37</td>\n",
       "      <td>1.95</td>\n",
       "      <td>2.50</td>\n",
       "      <td>16.8</td>\n",
       "      <td>113.0</td>\n",
       "      <td>3.85</td>\n",
       "      <td>3.49</td>\n",
       "      <td>0.24</td>\n",
       "      <td>2.18</td>\n",
       "      <td>7.80</td>\n",
       "      <td>0.86</td>\n",
       "      <td>3.45</td>\n",
       "      <td>1480.0</td>\n",
       "      <td>0</td>\n",
       "    </tr>\n",
       "    <tr>\n",
       "      <th>4</th>\n",
       "      <td>13.24</td>\n",
       "      <td>2.59</td>\n",
       "      <td>2.87</td>\n",
       "      <td>21.0</td>\n",
       "      <td>118.0</td>\n",
       "      <td>2.80</td>\n",
       "      <td>2.69</td>\n",
       "      <td>0.39</td>\n",
       "      <td>1.82</td>\n",
       "      <td>4.32</td>\n",
       "      <td>1.04</td>\n",
       "      <td>2.93</td>\n",
       "      <td>735.0</td>\n",
       "      <td>0</td>\n",
       "    </tr>\n",
       "  </tbody>\n",
       "</table>\n",
       "</div>"
      ],
      "text/plain": [
       "   alcohol  malic_acid   ash  alcalinity_of_ash  magnesium  total_phenols  \\\n",
       "0    14.23        1.71  2.43               15.6      127.0           2.80   \n",
       "1    13.20        1.78  2.14               11.2      100.0           2.65   \n",
       "2    13.16        2.36  2.67               18.6      101.0           2.80   \n",
       "3    14.37        1.95  2.50               16.8      113.0           3.85   \n",
       "4    13.24        2.59  2.87               21.0      118.0           2.80   \n",
       "\n",
       "   flavanoids  nonflavanoid_phenols  proanthocyanins  color_intensity   hue  \\\n",
       "0        3.06                  0.28             2.29             5.64  1.04   \n",
       "1        2.76                  0.26             1.28             4.38  1.05   \n",
       "2        3.24                  0.30             2.81             5.68  1.03   \n",
       "3        3.49                  0.24             2.18             7.80  0.86   \n",
       "4        2.69                  0.39             1.82             4.32  1.04   \n",
       "\n",
       "   od280/od315_of_diluted_wines  proline  target  \n",
       "0                          3.92   1065.0       0  \n",
       "1                          3.40   1050.0       0  \n",
       "2                          3.17   1185.0       0  \n",
       "3                          3.45   1480.0       0  \n",
       "4                          2.93    735.0       0  "
      ]
     },
     "execution_count": 45,
     "metadata": {},
     "output_type": "execute_result"
    }
   ],
   "source": [
    "wine = load_wine(as_frame=True)\n",
    "wine = wine.frame\n",
    "wine.info()\n",
    "wine.head()"
   ]
  },
  {
   "cell_type": "markdown",
   "id": "15a4d334",
   "metadata": {},
   "source": [
    "All columns contain relevant information"
   ]
  },
  {
   "cell_type": "markdown",
   "id": "4963c4cb",
   "metadata": {},
   "source": [
    "We check for null values"
   ]
  },
  {
   "cell_type": "code",
   "execution_count": 46,
   "id": "5e453ed7",
   "metadata": {},
   "outputs": [
    {
     "name": "stdout",
     "output_type": "stream",
     "text": [
      "Number of missing values before cleaning:\n",
      "\talcohol: 0\n",
      "\tmalic_acid: 0\n",
      "\tash: 0\n",
      "\talcalinity_of_ash: 0\n",
      "\tmagnesium: 0\n",
      "\ttotal_phenols: 0\n",
      "\tflavanoids: 0\n",
      "\tnonflavanoid_phenols: 0\n",
      "\tproanthocyanins: 0\n",
      "\tcolor_intensity: 0\n",
      "\thue: 0\n",
      "\tod280/od315_of_diluted_wines: 0\n",
      "\tproline: 0\n",
      "\ttarget: 0\n"
     ]
    }
   ],
   "source": [
    "#check for null values\n",
    "wine = wine.replace(['?', ',', '.'], np.NaN) #remove ? and , and . as missing values\n",
    "\n",
    "print('Number of missing values before cleaning:')\n",
    "for col in wine.columns:\n",
    "    print(f'\\t{col}: {wine[col].isna().sum()}')"
   ]
  },
  {
   "cell_type": "markdown",
   "id": "2f9106c5",
   "metadata": {},
   "source": [
    "Since there are no null values we don't need to remove any element of the dataset"
   ]
  },
  {
   "cell_type": "markdown",
   "id": "99ab6625",
   "metadata": {},
   "source": [
    "K-Means requires unlabeled data in order to run so we take the date without labels to the clustering\n",
    "\n",
    "\n",
    "We compute the clustering on a copy of the dataset without the column \"target\", we don't drop the column from the original dataset because we will need it later to evaluate the accuracy"
   ]
  },
  {
   "cell_type": "code",
   "execution_count": 47,
   "id": "9f2a1f23",
   "metadata": {},
   "outputs": [
    {
     "name": "stdout",
     "output_type": "stream",
     "text": [
      "<class 'pandas.core.frame.DataFrame'>\n",
      "RangeIndex: 178 entries, 0 to 177\n",
      "Data columns (total 14 columns):\n",
      " #   Column                        Non-Null Count  Dtype  \n",
      "---  ------                        --------------  -----  \n",
      " 0   alcohol                       178 non-null    float64\n",
      " 1   malic_acid                    178 non-null    float64\n",
      " 2   ash                           178 non-null    float64\n",
      " 3   alcalinity_of_ash             178 non-null    float64\n",
      " 4   magnesium                     178 non-null    float64\n",
      " 5   total_phenols                 178 non-null    float64\n",
      " 6   flavanoids                    178 non-null    float64\n",
      " 7   nonflavanoid_phenols          178 non-null    float64\n",
      " 8   proanthocyanins               178 non-null    float64\n",
      " 9   color_intensity               178 non-null    float64\n",
      " 10  hue                           178 non-null    float64\n",
      " 11  od280/od315_of_diluted_wines  178 non-null    float64\n",
      " 12  proline                       178 non-null    float64\n",
      " 13  target                        178 non-null    int32  \n",
      "dtypes: float64(13), int32(1)\n",
      "memory usage: 18.9 KB\n",
      "<class 'pandas.core.frame.DataFrame'>\n",
      "RangeIndex: 178 entries, 0 to 177\n",
      "Data columns (total 13 columns):\n",
      " #   Column                        Non-Null Count  Dtype  \n",
      "---  ------                        --------------  -----  \n",
      " 0   alcohol                       178 non-null    float64\n",
      " 1   malic_acid                    178 non-null    float64\n",
      " 2   ash                           178 non-null    float64\n",
      " 3   alcalinity_of_ash             178 non-null    float64\n",
      " 4   magnesium                     178 non-null    float64\n",
      " 5   total_phenols                 178 non-null    float64\n",
      " 6   flavanoids                    178 non-null    float64\n",
      " 7   nonflavanoid_phenols          178 non-null    float64\n",
      " 8   proanthocyanins               178 non-null    float64\n",
      " 9   color_intensity               178 non-null    float64\n",
      " 10  hue                           178 non-null    float64\n",
      " 11  od280/od315_of_diluted_wines  178 non-null    float64\n",
      " 12  proline                       178 non-null    float64\n",
      "dtypes: float64(13)\n",
      "memory usage: 18.2 KB\n"
     ]
    }
   ],
   "source": [
    "data_to_cluster = wine.copy()\n",
    "data_to_cluster = data_to_cluster.drop('target', axis =1)\n",
    "\n",
    "wine.info()\n",
    "\n",
    "data_to_cluster.info()"
   ]
  },
  {
   "cell_type": "markdown",
   "id": "23393b76",
   "metadata": {},
   "source": [
    "Once we remove the target column we execute clustering with different values of cluster  \n",
    "number_of_clusters = [2, 3, 4, 5, 6, 7]"
   ]
  },
  {
   "cell_type": "markdown",
   "id": "4206a1fa",
   "metadata": {},
   "source": [
    "Each label array has 178 elements wich is the total number of elements in the data_to_cluster dataset "
   ]
  },
  {
   "cell_type": "markdown",
   "id": "c864dc86",
   "metadata": {},
   "source": [
    "Each cluster center has 13 values, one for each dimension (column of the dataset)"
   ]
  },
  {
   "cell_type": "code",
   "execution_count": 48,
   "id": "74577457",
   "metadata": {},
   "outputs": [
    {
     "name": "stdout",
     "output_type": "stream",
     "text": [
      "\n",
      "Number of clusters: 2\n",
      "Cluster centers: \n",
      "[[1.27028455e+01 2.54455285e+00 2.33910569e+00 2.04081301e+01\n",
      "  9.68130081e+01 2.06211382e+00 1.64146341e+00 3.92682927e-01\n",
      "  1.45406504e+00 4.85138211e+00 9.08617886e-01 2.40821138e+00\n",
      "  5.65869919e+02]\n",
      " [1.36665455e+01 1.87072727e+00 2.42781818e+00 1.74527273e+01\n",
      "  1.06290909e+02 2.81618182e+00 2.89654545e+00 2.92909091e-01\n",
      "  1.89690909e+00 5.52036364e+00 1.06665455e+00 3.06672727e+00\n",
      "  1.15172727e+03]]\n",
      "Cluster to which element belongs: \n",
      "[1 1 1 1 0 1 1 1 1 1 1 1 1 1 1 1 1 1 1 0 0 0 1 1 0 0 1 1 1 1 1 1 1 1 1 1 1\n",
      " 1 1 0 0 1 1 0 1 1 1 1 1 1 1 1 1 1 1 1 1 1 1 0 0 0 0 0 0 0 0 0 0 0 1 0 0 1\n",
      " 1 0 0 0 0 0 0 0 0 0 0 0 0 0 0 0 0 0 0 0 0 1 0 0 0 0 0 0 0 0 0 0 0 0 0 0 0\n",
      " 0 0 0 0 0 0 0 0 0 0 0 0 0 0 0 0 0 0 0 0 0 0 0 0 0 0 0 0 0 0 0 0 0 0 0 0 0\n",
      " 0 0 0 0 0 0 0 0 0 1 0 0 0 0 0 0 0 0 0 0 0 0 0 0 0 0 0 0 0 0]\n",
      "\n",
      "Number of clusters: 3\n",
      "Cluster centers: \n",
      "[[1.29298387e+01 2.50403226e+00 2.40806452e+00 1.98903226e+01\n",
      "  1.03596774e+02 2.11112903e+00 1.58403226e+00 3.88387097e-01\n",
      "  1.50338710e+00 5.65032258e+00 8.83967742e-01 2.36548387e+00\n",
      "  7.28338710e+02]\n",
      " [1.38044681e+01 1.88340426e+00 2.42617021e+00 1.70234043e+01\n",
      "  1.05510638e+02 2.86723404e+00 3.01425532e+00 2.85319149e-01\n",
      "  1.91042553e+00 5.70255319e+00 1.07829787e+00 3.11404255e+00\n",
      "  1.19514894e+03]\n",
      " [1.25166667e+01 2.49420290e+00 2.28855072e+00 2.08231884e+01\n",
      "  9.23478261e+01 2.07072464e+00 1.75840580e+00 3.90144928e-01\n",
      "  1.45188406e+00 4.08695651e+00 9.41159420e-01 2.49072464e+00\n",
      "  4.58231884e+02]]\n",
      "Cluster to which element belongs: \n",
      "[1 1 1 1 0 1 1 1 1 1 1 1 1 1 1 1 1 1 1 0 0 0 1 1 0 0 1 1 0 1 1 1 1 1 1 0 0\n",
      " 1 1 0 0 1 1 0 0 1 1 1 1 1 1 1 1 1 1 1 1 1 1 2 0 2 0 2 2 0 2 2 0 0 0 2 2 1\n",
      " 0 2 2 2 0 2 2 0 0 2 2 2 2 2 0 0 2 2 2 2 2 0 0 2 0 2 0 2 2 2 0 2 2 2 2 0 2\n",
      " 2 0 2 2 2 2 2 2 2 0 2 2 2 2 2 2 2 2 2 0 2 2 0 0 0 0 2 2 2 0 0 2 2 0 0 2 0\n",
      " 0 2 2 2 2 0 0 0 2 0 0 0 2 0 2 0 0 2 0 0 0 0 2 2 0 0 0 0 0 2]\n",
      "\n",
      "Number of clusters: 4\n",
      "Cluster centers: \n",
      "[[1.34934286e+01 2.01200000e+00 2.37828571e+00 1.77400000e+01\n",
      "  1.06628571e+02 2.68028571e+00 2.69085714e+00 2.85142857e-01\n",
      "  1.84257143e+00 5.04200000e+00 1.03131429e+00 3.08657143e+00\n",
      "  1.00294286e+03]\n",
      " [1.24989231e+01 2.43046154e+00 2.27923077e+00 2.07584615e+01\n",
      "  9.22615385e+01 2.07984615e+00 1.81384615e+00 3.81384615e-01\n",
      "  1.47969231e+00 4.04923075e+00 9.47384615e-01 2.51092308e+00\n",
      "  4.50738462e+02]\n",
      " [1.38600000e+01 1.79391304e+00 2.50695652e+00 1.70739130e+01\n",
      "  1.06000000e+02 2.94304348e+00 3.11086957e+00 2.98695652e-01\n",
      "  1.92608696e+00 6.26000000e+00 1.10000000e+00 3.03565217e+00\n",
      "  1.33856522e+03]\n",
      " [1.29205455e+01 2.65836364e+00 2.40345455e+00 2.01309091e+01\n",
      "  1.01581818e+02 2.03345455e+00 1.41054545e+00 4.14000000e-01\n",
      "  1.42200000e+00 5.75800000e+00 8.62727273e-01 2.25127273e+00\n",
      "  6.86527273e+02]]\n",
      "Cluster to which element belongs: \n",
      "[0 0 2 2 3 2 2 2 0 0 2 2 2 0 2 2 2 0 2 0 3 3 0 0 0 3 2 2 0 0 2 2 0 2 0 0 0\n",
      " 0 0 3 3 0 0 3 0 0 0 0 0 2 0 2 2 2 0 0 0 2 2 1 3 1 3 1 1 3 1 1 3 3 0 1 1 0\n",
      " 0 1 1 1 3 1 1 3 3 1 1 1 1 1 3 3 1 1 1 1 1 0 3 1 3 1 3 1 1 1 3 1 1 1 1 3 1\n",
      " 1 3 1 1 1 1 1 1 1 3 1 1 1 1 1 1 1 1 3 3 1 1 3 3 3 3 1 3 3 3 3 1 1 0 3 1 3\n",
      " 3 1 1 1 1 3 3 3 1 0 3 3 1 3 3 3 3 1 3 3 3 3 1 1 3 3 3 3 3 1]\n",
      "\n",
      "Number of clusters: 5\n",
      "Cluster centers: \n",
      "[[1.24750877e+01 2.32526316e+00 2.28000000e+00 2.06368421e+01\n",
      "  9.17192982e+01 2.10578947e+00 1.87140351e+00 3.83333333e-01\n",
      "  1.46842105e+00 3.95210525e+00 9.60526316e-01 2.54438596e+00\n",
      "  4.35578947e+02]\n",
      " [1.37185185e+01 1.96814815e+00 2.37333333e+00 1.68925926e+01\n",
      "  1.04666667e+02 2.83703704e+00 2.96444444e+00 2.77777778e-01\n",
      "  1.91185185e+00 5.24333333e+00 1.04962963e+00 3.19222222e+00\n",
      "  1.07240741e+03]\n",
      " [1.27416667e+01 2.68354167e+00 2.36416667e+00 2.06125000e+01\n",
      "  9.71250000e+01 1.96687500e+00 1.32833333e+00 4.12916667e-01\n",
      "  1.38562500e+00 5.54187500e+00 8.64583333e-01 2.18875000e+00\n",
      "  6.36125000e+02]\n",
      " [1.39205000e+01 1.76900000e+00 2.49750000e+00 1.72000000e+01\n",
      "  1.06650000e+02 2.90800000e+00 3.08150000e+00 2.95500000e-01\n",
      "  1.90850000e+00 6.32250000e+00 1.11700000e+00 3.00850000e+00\n",
      "  1.36085000e+03]\n",
      " [1.31776923e+01 2.53846154e+00 2.45269231e+00 1.93961538e+01\n",
      "  1.11730769e+02 2.28192308e+00 1.88884615e+00 3.58846154e-01\n",
      "  1.66076923e+00 5.42461538e+00 9.03692308e-01 2.63192308e+00\n",
      "  8.23576923e+02]]\n",
      "Cluster to which element belongs: \n",
      "[1 1 1 3 4 3 3 3 1 1 3 3 3 1 3 3 3 1 3 4 4 4 1 1 4 4 1 3 4 1 3 3 1 3 1 4 4\n",
      " 1 1 4 4 1 1 2 4 1 1 1 1 3 1 3 1 3 1 1 1 3 3 0 2 0 2 0 0 2 0 0 4 2 4 0 0 1\n",
      " 4 0 0 0 4 0 0 2 2 0 0 0 0 2 2 2 0 0 0 0 0 4 2 0 2 0 2 2 0 0 2 0 0 0 0 2 2\n",
      " 0 2 0 0 0 0 0 0 2 2 0 0 0 0 0 0 0 0 2 2 0 2 2 2 2 2 0 2 2 2 4 0 2 4 4 0 2\n",
      " 2 2 0 0 0 2 2 2 0 4 2 2 0 2 2 2 2 0 2 2 4 2 0 0 2 4 4 4 4 2]\n",
      "\n",
      "Number of clusters: 6\n",
      "Cluster centers: \n",
      "[[1.24750877e+01 2.32526316e+00 2.28000000e+00 2.06368421e+01\n",
      "  9.17192982e+01 2.10578947e+00 1.87140351e+00 3.83333333e-01\n",
      "  1.46842105e+00 3.95210525e+00 9.60526316e-01 2.54438596e+00\n",
      "  4.35578947e+02]\n",
      " [1.37623529e+01 1.78058824e+00 2.54058824e+00 1.73588235e+01\n",
      "  1.05411765e+02 2.83294118e+00 2.97588235e+00 3.08235294e-01\n",
      "  1.82352941e+00 5.91647059e+00 1.09529412e+00 3.03823529e+00\n",
      "  1.27088235e+03]\n",
      " [1.31776923e+01 2.53846154e+00 2.45269231e+00 1.93961538e+01\n",
      "  1.11730769e+02 2.28192308e+00 1.88884615e+00 3.58846154e-01\n",
      "  1.66076923e+00 5.42461538e+00 9.03692308e-01 2.63192308e+00\n",
      "  8.23576923e+02]\n",
      " [1.27416667e+01 2.68354167e+00 2.36416667e+00 2.06125000e+01\n",
      "  9.71250000e+01 1.96687500e+00 1.32833333e+00 4.12916667e-01\n",
      "  1.38562500e+00 5.54187500e+00 8.64583333e-01 2.18875000e+00\n",
      "  6.36125000e+02]\n",
      " [1.37512500e+01 1.96916667e+00 2.34875000e+00 1.69750000e+01\n",
      "  1.05041667e+02 2.79458333e+00 2.92166667e+00 2.72500000e-01\n",
      "  1.89541667e+00 5.16833333e+00 1.05750000e+00 3.18916667e+00\n",
      "  1.05770833e+03]\n",
      " [1.41366667e+01 1.83166667e+00 2.41166667e+00 1.62666667e+01\n",
      "  1.07666667e+02 3.25500000e+00 3.49333333e+00 2.71666667e-01\n",
      "  2.21666667e+00 7.23333333e+00 1.11333333e+00 3.02833333e+00\n",
      "  1.53033333e+03]]\n",
      "Cluster to which element belongs: \n",
      "[4 4 1 5 2 5 1 1 4 4 5 1 1 4 5 1 1 4 5 2 2 2 4 4 2 2 1 1 2 4 1 5 4 1 4 2 2\n",
      " 4 4 2 2 4 4 3 2 4 4 4 4 1 4 1 1 1 4 4 4 1 1 0 3 0 3 0 0 3 0 0 2 3 2 0 0 4\n",
      " 2 0 0 0 2 0 0 3 3 0 0 0 0 3 3 3 0 0 0 0 0 2 3 0 3 0 3 3 0 0 3 0 0 0 0 3 3\n",
      " 0 3 0 0 0 0 0 0 3 3 0 0 0 0 0 0 0 0 3 3 0 3 3 3 3 3 0 3 3 3 2 0 3 2 2 0 3\n",
      " 3 3 0 0 0 3 3 3 0 2 3 3 0 3 3 3 3 0 3 3 2 3 0 0 3 2 2 2 2 3]\n",
      "\n",
      "Number of clusters: 7\n",
      "Cluster centers: \n",
      "[[1.26302439e+01 2.65829268e+00 2.32073171e+00 2.11048780e+01\n",
      "  9.37317073e+01 1.86560976e+00 1.47243902e+00 4.17317073e-01\n",
      "  1.34585366e+00 4.77609754e+00 8.84390244e-01 2.29853659e+00\n",
      "  5.14170732e+02]\n",
      " [1.41366667e+01 1.83166667e+00 2.41166667e+00 1.62666667e+01\n",
      "  1.07666667e+02 3.25500000e+00 3.49333333e+00 2.71666667e-01\n",
      "  2.21666667e+00 7.23333333e+00 1.11333333e+00 3.02833333e+00\n",
      "  1.53033333e+03]\n",
      " [1.37512500e+01 1.96916667e+00 2.34875000e+00 1.69750000e+01\n",
      "  1.05041667e+02 2.79458333e+00 2.92166667e+00 2.72500000e-01\n",
      "  1.89541667e+00 5.16833333e+00 1.05750000e+00 3.18916667e+00\n",
      "  1.05770833e+03]\n",
      " [1.37623529e+01 1.78058824e+00 2.54058824e+00 1.73588235e+01\n",
      "  1.05411765e+02 2.83294118e+00 2.97588235e+00 3.08235294e-01\n",
      "  1.82352941e+00 5.91647059e+00 1.09529412e+00 3.03823529e+00\n",
      "  1.27088235e+03]\n",
      " [1.28569767e+01 2.55581395e+00 2.39162791e+00 2.00674419e+01\n",
      "  1.00279070e+02 2.01906977e+00 1.39953488e+00 4.08837209e-01\n",
      "  1.42139535e+00 5.78906977e+00 8.69767442e-01 2.18674419e+00\n",
      "  6.73930233e+02]\n",
      " [1.23503571e+01 2.25392857e+00 2.24142857e+00 2.04107143e+01\n",
      "  9.03214286e+01 2.37107143e+00 2.17714286e+00 3.50357143e-01\n",
      "  1.60714286e+00 3.07785714e+00 1.02428571e+00 2.77214286e+00\n",
      "  3.76321429e+02]\n",
      " [1.30947368e+01 2.38684211e+00 2.44526316e+00 1.94894737e+01\n",
      "  1.11105263e+02 2.31947368e+00 2.00157895e+00 3.42105263e-01\n",
      "  1.68894737e+00 5.33631579e+00 9.16105263e-01 2.77000000e+00\n",
      "  8.51473684e+02]]\n",
      "Cluster to which element belongs: \n",
      "[2 2 3 1 4 1 3 3 2 2 1 3 3 2 1 3 3 2 1 6 6 6 2 2 6 6 3 3 6 2 3 1 2 3 2 6 6\n",
      " 2 2 4 6 2 2 4 6 2 2 2 2 3 2 3 3 3 2 2 2 3 3 0 4 0 4 5 5 4 0 0 4 4 6 5 0 2\n",
      " 6 5 5 0 4 0 5 4 4 0 0 0 0 0 4 4 0 0 0 5 5 6 4 5 4 5 4 0 5 5 4 5 0 0 5 4 0\n",
      " 5 4 5 5 5 0 5 5 0 4 0 5 5 5 5 5 0 5 0 4 0 0 4 4 4 4 0 0 0 4 6 0 0 6 6 5 4\n",
      " 4 0 0 0 5 4 4 4 0 6 4 4 0 4 0 4 4 0 4 4 4 4 0 0 4 4 4 6 6 0]\n"
     ]
    }
   ],
   "source": [
    "# K-Means requires unlabeled data in order to run so we take the date without labels to the clustering\n",
    "X = data_to_cluster.values \n",
    "number_of_clusters = [2, 3, 4, 5, 6, 7] #we test the clustering with different possible number of clusters\n",
    "predicted_belonging_cluster = [] #nullcontext, nullcontext, nullcontext, nullcontext, nullcontext, nullcontext]\n",
    "\n",
    "for K in number_of_clusters: \n",
    "    clustering = KMeans(n_clusters=K)\n",
    "    belonging_cluster = clustering.fit_predict(X)\n",
    "    predicted_belonging_cluster.append(belonging_cluster)\n",
    "    \n",
    "    print(f\"\\nNumber of clusters: {K}\")\n",
    "    print(\"Cluster centers: \")\n",
    "    print(clustering.cluster_centers_)\n",
    "    print(\"Cluster to which element belongs: \")\n",
    "    print(belonging_cluster)"
   ]
  },
  {
   "cell_type": "markdown",
   "id": "bfc7aaec",
   "metadata": {},
   "source": [
    "### 2. Use the Elbow method for choosing a right number for K and perform the clustering;"
   ]
  },
  {
   "cell_type": "code",
   "execution_count": 1,
   "id": "df62f07d",
   "metadata": {},
   "outputs": [
    {
     "ename": "NameError",
     "evalue": "name 'plt' is not defined",
     "output_type": "error",
     "traceback": [
      "\u001b[1;31m---------------------------------------------------------------------------\u001b[0m",
      "\u001b[1;31mNameError\u001b[0m                                 Traceback (most recent call last)",
      "Cell \u001b[1;32mIn[1], line 1\u001b[0m\n\u001b[1;32m----> 1\u001b[0m \u001b[43mplt\u001b[49m\u001b[38;5;241m.\u001b[39mfigure()\n\u001b[0;32m      2\u001b[0m inertia \u001b[38;5;241m=\u001b[39m []\n\u001b[0;32m      3\u001b[0m number_of_clusters \u001b[38;5;241m=\u001b[39m [i \u001b[38;5;28;01mfor\u001b[39;00m i \u001b[38;5;129;01min\u001b[39;00m \u001b[38;5;28mrange\u001b[39m(\u001b[38;5;241m1\u001b[39m, \u001b[38;5;241m10\u001b[39m)]\n",
      "\u001b[1;31mNameError\u001b[0m: name 'plt' is not defined"
     ]
    }
   ],
   "source": [
    "plt.figure()\n",
    "inertia = []\n",
    "number_of_clusters = [i for i in range(1, 10)]\n",
    "for K in number_of_clusters:\n",
    "    clustering = KMeans(n_clusters=K)\n",
    "    clustering.fit(X)\n",
    "    inertia.append(clustering.inertia_)\n",
    "    \n",
    "plt.plot(number_of_clusters, inertia, \"o-\")\n",
    "plt.xlabel(\"k\")\n",
    "plt.ylabel(\"inertia\")"
   ]
  },
  {
   "cell_type": "markdown",
   "id": "fd219725",
   "metadata": {},
   "source": [
    "### 3. Compute the accuracy and the confusion matrix (search the relative Sklearn functions):"
   ]
  },
  {
   "cell_type": "markdown",
   "id": "595756f9",
   "metadata": {},
   "source": [
    "Observing the graph of the elbow method we deduce that the optimal number of clusters is four"
   ]
  },
  {
   "cell_type": "code",
   "execution_count": 50,
   "id": "88dc259b",
   "metadata": {},
   "outputs": [
    {
     "data": {
      "text/plain": [
       "array([0, 1, 2])"
      ]
     },
     "execution_count": 50,
     "metadata": {},
     "output_type": "execute_result"
    }
   ],
   "source": [
    "wine['target'].unique()"
   ]
  },
  {
   "cell_type": "markdown",
   "id": "64607d86",
   "metadata": {},
   "source": [
    "To evaluate the accuracy we need to compare the actual labels (target column), with the predited labels evaluated with the majority vote"
   ]
  },
  {
   "cell_type": "code",
   "execution_count": 51,
   "id": "b57e59c6",
   "metadata": {},
   "outputs": [],
   "source": [
    "y_test = wine['target'].values"
   ]
  },
  {
   "cell_type": "markdown",
   "id": "abfcdf43",
   "metadata": {},
   "source": [
    "To evaluate the majority vote for each cluster we divide the actual label in the 4 clusters"
   ]
  },
  {
   "cell_type": "code",
   "execution_count": 53,
   "id": "a5ea9e39",
   "metadata": {},
   "outputs": [
    {
     "name": "stdout",
     "output_type": "stream",
     "text": [
      "Predicted belonging cluster: \n",
      " [0 0 2 2 3 2 2 2 0 0 2 2 2 0 2 2 2 0 2 0 3 3 0 0 0 3 2 2 0 0 2 2 0 2 0 0 0\n",
      " 0 0 3 3 0 0 3 0 0 0 0 0 2 0 2 2 2 0 0 0 2 2 1 3 1 3 1 1 3 1 1 3 3 0 1 1 0\n",
      " 0 1 1 1 3 1 1 3 3 1 1 1 1 1 3 3 1 1 1 1 1 0 3 1 3 1 3 1 1 1 3 1 1 1 1 3 1\n",
      " 1 3 1 1 1 1 1 1 1 3 1 1 1 1 1 1 1 1 3 3 1 1 3 3 3 3 1 3 3 3 3 1 1 0 3 1 3\n",
      " 3 1 1 1 1 3 3 3 1 0 3 3 1 3 3 3 3 1 3 3 3 3 1 1 3 3 3 3 3 1]\n",
      "\n",
      "Cluster 0:  [[0, 0], [1, 0], [8, 0], [9, 0], [13, 0], [17, 0], [19, 0], [22, 0], [23, 0], [24, 0], [28, 0], [29, 0], [32, 0], [34, 0], [35, 0], [36, 0], [37, 0], [38, 0], [41, 0], [42, 0], [44, 0], [45, 0], [46, 0], [47, 0], [48, 0], [50, 0], [54, 0], [55, 0], [56, 0], [70, 1], [73, 1], [74, 1], [95, 1], [144, 2], [157, 2]]\n",
      "Cluster 1:  [[59, 1], [61, 1], [63, 1], [64, 1], [66, 1], [67, 1], [71, 1], [72, 1], [75, 1], [76, 1], [77, 1], [79, 1], [80, 1], [83, 1], [84, 1], [85, 1], [86, 1], [87, 1], [90, 1], [91, 1], [92, 1], [93, 1], [94, 1], [97, 1], [99, 1], [101, 1], [102, 1], [103, 1], [105, 1], [106, 1], [107, 1], [108, 1], [110, 1], [111, 1], [113, 1], [114, 1], [115, 1], [116, 1], [117, 1], [118, 1], [119, 1], [121, 1], [122, 1], [123, 1], [124, 1], [125, 1], [126, 1], [127, 1], [128, 1], [131, 2], [132, 2], [137, 2], [142, 2], [143, 2], [146, 2], [149, 2], [150, 2], [151, 2], [152, 2], [156, 2], [160, 2], [165, 2], [170, 2], [171, 2], [177, 2]]\n",
      "Cluster 2:  [[2, 0], [3, 0], [5, 0], [6, 0], [7, 0], [10, 0], [11, 0], [12, 0], [14, 0], [15, 0], [16, 0], [18, 0], [26, 0], [27, 0], [30, 0], [31, 0], [33, 0], [49, 0], [51, 0], [52, 0], [53, 0], [57, 0], [58, 0]]\n",
      "Cluster 3:  [[4, 0], [20, 0], [21, 0], [25, 0], [39, 0], [40, 0], [43, 0], [60, 1], [62, 1], [65, 1], [68, 1], [69, 1], [78, 1], [81, 1], [82, 1], [88, 1], [89, 1], [96, 1], [98, 1], [100, 1], [104, 1], [109, 1], [112, 1], [120, 1], [129, 1], [130, 2], [133, 2], [134, 2], [135, 2], [136, 2], [138, 2], [139, 2], [140, 2], [141, 2], [145, 2], [147, 2], [148, 2], [153, 2], [154, 2], [155, 2], [158, 2], [159, 2], [161, 2], [162, 2], [163, 2], [164, 2], [166, 2], [167, 2], [168, 2], [169, 2], [172, 2], [173, 2], [174, 2], [175, 2], [176, 2]]\n"
     ]
    }
   ],
   "source": [
    "belonging_cluster = predicted_belonging_cluster[2] #the third element of the array contains the predicted belonging cluster for K=4\n",
    "print(\"Predicted belonging cluster: \\n\", belonging_cluster)\n",
    "belonging_cluster_0 = []\n",
    "belonging_cluster_1 = []\n",
    "belonging_cluster_2 = []\n",
    "belonging_cluster_3 = []\n",
    "for index, value in enumerate(belonging_cluster):\n",
    "    #index = index of the element in the dataset, y_true[index] = actual label of the element\n",
    "    element = [index, y_test[index]] \n",
    "    if (value == 0):\n",
    "        belonging_cluster_0.append(element) \n",
    "    elif (value == 1):\n",
    "        belonging_cluster_1.append(element)\n",
    "    elif (value == 2):\n",
    "        belonging_cluster_2.append(element)\n",
    "    elif(value == 3):\n",
    "        belonging_cluster_3.append(element)\n",
    "\n",
    "print(\"\\nCluster 0: \", belonging_cluster_0)\n",
    "print(\"Cluster 1: \", belonging_cluster_1)\n",
    "print(\"Cluster 2: \", belonging_cluster_2)\n",
    "print(\"Cluster 3: \", belonging_cluster_3)\n"
   ]
  },
  {
   "cell_type": "markdown",
   "id": "fe299304",
   "metadata": {},
   "source": [
    "We then procede by evaluating the count of each label for each cluster"
   ]
  },
  {
   "cell_type": "code",
   "execution_count": 54,
   "id": "3bea412f",
   "metadata": {},
   "outputs": [
    {
     "name": "stdout",
     "output_type": "stream",
     "text": [
      "Count of label 0 in cluster 0:  29\n",
      "Count of label 1 in cluster 0:  4\n",
      "Count of label 2 in cluster 0:  2\n",
      "The majority vote assign to the cluster 0 the label:  0\n"
     ]
    }
   ],
   "source": [
    "count_0 = 0\n",
    "count_1 = 0\n",
    "count_2 = 0\n",
    "\n",
    "for i in range (len(belonging_cluster_0)):\n",
    "    value = belonging_cluster_0[i][1]\n",
    "    if (value == 0):\n",
    "        count_0 += 1\n",
    "    elif (value == 1):\n",
    "        count_1 += 1\n",
    "    else:\n",
    "        count_2 += 1\n",
    "\n",
    "#majority vote\n",
    "if (count_0>count_1):\n",
    "    if(count_0>count_2):\n",
    "        max_count = 0\n",
    "    else:\n",
    "        max_count = 2\n",
    "else:\n",
    "    if(count_1>count_2):\n",
    "        max_count = 1\n",
    "    else:\n",
    "        max_count = 2\n",
    "\n",
    "print(\"Count of label 0 in cluster 0: \", count_0)\n",
    "print(\"Count of label 1 in cluster 0: \", count_1)\n",
    "print(\"Count of label 2 in cluster 0: \", count_2)\n",
    "print(\"The majority vote assign to the cluster 0 the label: \", max_count)"
   ]
  },
  {
   "cell_type": "code",
   "execution_count": 55,
   "id": "ef86f50d",
   "metadata": {},
   "outputs": [
    {
     "name": "stdout",
     "output_type": "stream",
     "text": [
      "Count of label 0 in cluster 0:  0\n",
      "Count of label 1 in cluster 0:  49\n",
      "Count of label 2 in cluster 0:  16\n",
      "The majority vote assign to the cluster 0 the label:  1\n"
     ]
    }
   ],
   "source": [
    "count_0 = 0\n",
    "count_1 = 0\n",
    "count_2 = 0\n",
    "\n",
    "for i in range (len(belonging_cluster_1)):\n",
    "    value = belonging_cluster_1[i][1]\n",
    "    if (value == 0):\n",
    "        count_0 += 1\n",
    "    elif (value == 1):\n",
    "        count_1 += 1\n",
    "    else:\n",
    "        count_2 += 1\n",
    "\n",
    "#majority vote\n",
    "if (count_0>count_1):\n",
    "    if(count_0>count_2):\n",
    "        max_count = 0\n",
    "    else:\n",
    "        max_count = 2\n",
    "else:\n",
    "    if(count_1>count_2):\n",
    "        max_count = 1\n",
    "    else:\n",
    "        max_count = 2\n",
    "\n",
    "print(\"Count of label 0 in cluster 0: \", count_0)\n",
    "print(\"Count of label 1 in cluster 0: \", count_1)\n",
    "print(\"Count of label 2 in cluster 0: \", count_2)\n",
    "print(\"The majority vote assign to the cluster 0 the label: \", max_count)"
   ]
  },
  {
   "cell_type": "code",
   "execution_count": 56,
   "id": "88386c9f",
   "metadata": {},
   "outputs": [
    {
     "name": "stdout",
     "output_type": "stream",
     "text": [
      "Count of label 0 in cluster 0:  23\n",
      "Count of label 1 in cluster 0:  0\n",
      "Count of label 2 in cluster 0:  0\n",
      "The majority vote assign to the cluster 0 the label:  0\n"
     ]
    }
   ],
   "source": [
    "count_0 = 0\n",
    "count_1 = 0\n",
    "count_2 = 0\n",
    "\n",
    "for i in range (len(belonging_cluster_2)):\n",
    "    value = belonging_cluster_2[i][1]\n",
    "    if (value == 0):\n",
    "        count_0 += 1\n",
    "    elif (value == 1):\n",
    "        count_1 += 1\n",
    "    else:\n",
    "        count_2 += 1\n",
    "\n",
    "#majority vote\n",
    "if (count_0>count_1):\n",
    "    if(count_0>count_2):\n",
    "        max_count = 0\n",
    "    else:\n",
    "        max_count = 2\n",
    "else:\n",
    "    if(count_1>count_2):\n",
    "        max_count = 1\n",
    "    else:\n",
    "        max_count = 2\n",
    "\n",
    "print(\"Count of label 0 in cluster 0: \", count_0)\n",
    "print(\"Count of label 1 in cluster 0: \", count_1)\n",
    "print(\"Count of label 2 in cluster 0: \", count_2)\n",
    "print(\"The majority vote assign to the cluster 0 the label: \", max_count)"
   ]
  },
  {
   "cell_type": "code",
   "execution_count": 57,
   "id": "4b080264",
   "metadata": {},
   "outputs": [
    {
     "name": "stdout",
     "output_type": "stream",
     "text": [
      "Count of label 0 in cluster 0:  7\n",
      "Count of label 1 in cluster 0:  18\n",
      "Count of label 2 in cluster 0:  30\n",
      "The majority vote assign to the cluster 0 the label:  2\n"
     ]
    }
   ],
   "source": [
    "count_0 = 0\n",
    "count_1 = 0\n",
    "count_2 = 0\n",
    "\n",
    "for i in range (len(belonging_cluster_3)):\n",
    "    value = belonging_cluster_3[i][1]\n",
    "    if (value == 0):\n",
    "        count_0 += 1\n",
    "    elif (value == 1):\n",
    "        count_1 += 1\n",
    "    else:\n",
    "        count_2 += 1\n",
    "\n",
    "#majority vote\n",
    "if (count_0>count_1):\n",
    "    if(count_0>count_2):\n",
    "        max_count = 0\n",
    "    else:\n",
    "        max_count = 2\n",
    "else:\n",
    "    if(count_1>count_2):\n",
    "        max_count = 1\n",
    "    else:\n",
    "        max_count = 2\n",
    "\n",
    "print(\"Count of label 0 in cluster 0: \", count_0)\n",
    "print(\"Count of label 1 in cluster 0: \", count_1)\n",
    "print(\"Count of label 2 in cluster 0: \", count_2)\n",
    "print(\"The majority vote assign to the cluster 0 the label: \", max_count)"
   ]
  },
  {
   "cell_type": "markdown",
   "id": "8fd7b2ce",
   "metadata": {},
   "source": [
    "Once we evaluate the majority vote we can compute the y_pred"
   ]
  },
  {
   "cell_type": "code",
   "execution_count": 58,
   "id": "c30c1550",
   "metadata": {},
   "outputs": [],
   "source": [
    "y_pred = []\n",
    "indexes_cluster_0 = [element[0] for element in belonging_cluster_0]\n",
    "indexes_cluster_1 = [element[0] for element in belonging_cluster_1]\n",
    "indexes_cluster_2 = [element[0] for element in belonging_cluster_2]\n",
    "indexes_cluster_3 = [element[0] for element in belonging_cluster_3]\n",
    "for i in range (178): #there are 178 elements in the dataset\n",
    "    if(i in indexes_cluster_0):\n",
    "        y_pred.append(0) #the majority vote assign to the cluster 0 the label 0\n",
    "    elif(i in indexes_cluster_1):\n",
    "        y_pred.append(1) #the majority vote assign to the cluster 0 the label 1\n",
    "    elif(i in indexes_cluster_2):\n",
    "        y_pred.append(0) #the majority vote assign to the cluster 0 the label 0\n",
    "    elif(i in indexes_cluster_3):\n",
    "        y_pred.append(2) #the majority vote assign to the cluster 0 the label 2\n",
    "\n",
    "y_pred = np.array(y_pred) #we convert the list in a numpy array"
   ]
  },
  {
   "cell_type": "code",
   "execution_count": 59,
   "id": "6a512d73",
   "metadata": {},
   "outputs": [
    {
     "data": {
      "text/plain": [
       "array([0, 0, 0, 0, 2, 0, 0, 0, 0, 0, 0, 0, 0, 0, 0, 0, 0, 0, 0, 0, 2, 2,\n",
       "       0, 0, 0, 2, 0, 0, 0, 0, 0, 0, 0, 0, 0, 0, 0, 0, 0, 2, 2, 0, 0, 2,\n",
       "       0, 0, 0, 0, 0, 0, 0, 0, 0, 0, 0, 0, 0, 0, 0, 1, 2, 1, 2, 1, 1, 2,\n",
       "       1, 1, 2, 2, 0, 1, 1, 0, 0, 1, 1, 1, 2, 1, 1, 2, 2, 1, 1, 1, 1, 1,\n",
       "       2, 2, 1, 1, 1, 1, 1, 0, 2, 1, 2, 1, 2, 1, 1, 1, 2, 1, 1, 1, 1, 2,\n",
       "       1, 1, 2, 1, 1, 1, 1, 1, 1, 1, 2, 1, 1, 1, 1, 1, 1, 1, 1, 2, 2, 1,\n",
       "       1, 2, 2, 2, 2, 1, 2, 2, 2, 2, 1, 1, 0, 2, 1, 2, 2, 1, 1, 1, 1, 2,\n",
       "       2, 2, 1, 0, 2, 2, 1, 2, 2, 2, 2, 1, 2, 2, 2, 2, 1, 1, 2, 2, 2, 2,\n",
       "       2, 1])"
      ]
     },
     "execution_count": 59,
     "metadata": {},
     "output_type": "execute_result"
    }
   ],
   "source": [
    "y_pred"
   ]
  },
  {
   "cell_type": "markdown",
   "id": "520caec4",
   "metadata": {},
   "source": [
    "Now that we have finally defined the predicted and expected labels we can evaluate the accuracy and the confusion matrix"
   ]
  },
  {
   "cell_type": "code",
   "execution_count": 66,
   "id": "9d5bc9d6",
   "metadata": {},
   "outputs": [
    {
     "name": "stdout",
     "output_type": "stream",
     "text": [
      "Accuracy:  0.7359550561797753\n"
     ]
    }
   ],
   "source": [
    "from sklearn.metrics import accuracy_score\n",
    "\n",
    "accuracy = accuracy_score(y_test, y_pred)\n",
    "print(\"Accuracy: \", accuracy)"
   ]
  },
  {
   "cell_type": "code",
   "execution_count": 61,
   "id": "58a98f47",
   "metadata": {},
   "outputs": [],
   "source": [
    "from sklearn.metrics import confusion_matrix\n",
    "\n",
    "# Compute confusion matrix\n",
    "conf_mat = confusion_matrix(y_test, y_pred) #labels, cluster_labels_pred"
   ]
  },
  {
   "cell_type": "code",
   "execution_count": 64,
   "id": "5d411c4b",
   "metadata": {},
   "outputs": [
    {
     "name": "stdout",
     "output_type": "stream",
     "text": [
      "Confusion matrix: \n",
      " [[52  0  7]\n",
      " [ 4 49 18]\n",
      " [ 2 16 30]] \n",
      "\n",
      "True 0    \t 52 --> predicted as 0, and really 0 :) \n",
      "False 0   \t 7  --> predicted as 0, but actually 1 or 2 :( \n",
      "True 1    \t 49 --> predicted as 1, and really 1 :) \n",
      "False 1   \t 22  --> predicted as 1, but actually 0 or 2 :( \n",
      "True 2    \t 30 --> predicted as 2, and really 2 :) \n",
      "False 2   \t 18  --> predicted as 2, but actually 0 or 1 :( \n"
     ]
    }
   ],
   "source": [
    "print(\"Confusion matrix: \\n\",conf_mat,\"\\n\")\n",
    "print(\"True 0    \\t\",conf_mat[0][0],\"--> predicted as 0, and really 0 :) \")\n",
    "print(\"False 0   \\t\",(conf_mat[0][1] + conf_mat[0][2]),\" --> predicted as 0, but actually 1 or 2 :( \")\n",
    "print(\"True 1    \\t\",conf_mat[1][1],\"--> predicted as 1, and really 1 :) \")\n",
    "print(\"False 1   \\t\",(conf_mat[1][0] + conf_mat[1][2]),\" --> predicted as 1, but actually 0 or 2 :( \")\n",
    "print(\"True 2    \\t\",conf_mat[2][2],\"--> predicted as 2, and really 2 :) \")\n",
    "print(\"False 2   \\t\",(conf_mat[2][0] + conf_mat[2][1]),\" --> predicted as 2, but actually 0 or 1 :( \")"
   ]
  },
  {
   "cell_type": "markdown",
   "id": "1d25dc71",
   "metadata": {},
   "source": [
    "### 4. Give your own comments and analysis on points 1, 2 and 3."
   ]
  },
  {
   "cell_type": "markdown",
   "id": "bd8976d4",
   "metadata": {},
   "source": [
    "We used the elbow method to determine the optimal number of clusters. Since the target variable in the wine dataset has three possible values, K=1 and K=2 were not considered sufficient. We observed that there was little difference between K=3 and K=4, but we chose K=4 for greater precision in our analysis, since after that the curve doesn't drop as drastically as with K=2, and K=3.\n",
    "\n",
    "The accuracy achieved is not the optimal, but is still a good score. It is worth noting that increasing the number of clusters could potentially improve the accuracy, but only to a limited extent. This is because K=4, is already considered a good number of clusters.\n",
    "\n",
    "Regarding the performance of the clusters, they seem to excel in identifying instances belonging to class 0. In fact, they achieve almost perfect recognition. However, when it comes to classes 1 and 2, the performance drops to approximately 60%. This means that the clusters have a lower accuracy in distinguishing between class 1 and class 2 instances."
   ]
  }
 ],
 "metadata": {
  "kernelspec": {
   "display_name": "Python 3 (ipykernel)",
   "language": "python",
   "name": "python3"
  },
  "language_info": {
   "codemirror_mode": {
    "name": "ipython",
    "version": 3
   },
   "file_extension": ".py",
   "mimetype": "text/x-python",
   "name": "python",
   "nbconvert_exporter": "python",
   "pygments_lexer": "ipython3",
   "version": "3.10.9"
  }
 },
 "nbformat": 4,
 "nbformat_minor": 5
}
